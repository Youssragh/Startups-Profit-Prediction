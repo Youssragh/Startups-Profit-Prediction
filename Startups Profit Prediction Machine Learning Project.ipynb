{
  "cells": [
    {
      "cell_type": "markdown",
      "metadata": {
        "id": "view-in-github",
        "colab_type": "text"
      },
      "source": [
        "<a href=\"https://colab.research.google.com/github/RAHULRAJ666DX/Startups-Profit-Prediction-Machine-Learning-Project/blob/main/Startups%20Profit%20Prediction%20Machine%20Learning%20Project.ipynb\" target=\"_parent\"><img src=\"https://colab.research.google.com/assets/colab-badge.svg\" alt=\"Open In Colab\"/></a>"
      ]
    },
    {
      "cell_type": "markdown",
      "source": [
        "# **Startups Profit Prediction Machine Learning Project**"
      ],
      "metadata": {
        "id": "iJ2n2FTbaODo"
      }
    },
    {
      "cell_type": "markdown",
      "metadata": {
        "id": "JI1a1HXMjCxF"
      },
      "source": [
        "# <u> Implementing Multiple Linear Regression </u>"
      ]
    },
    {
      "cell_type": "markdown",
      "metadata": {
        "id": "PYsTFWXYjCxF"
      },
      "source": [
        "### <u> Objective </u>\n",
        "* ### To predict the profit made by a startup on the basis of expenses incurred and the state where they operate"
      ]
    },
    {
      "cell_type": "markdown",
      "source": [
        "# **Data Preprocessing**"
      ],
      "metadata": {
        "id": "4wbwzcg4bK8J"
      }
    },
    {
      "cell_type": "code",
      "execution_count": null,
      "metadata": {
        "id": "tkMhzOURjCxF"
      },
      "outputs": [],
      "source": [
        "# Importing the libraries\n",
        "import numpy as np\n",
        "import pandas as pd\n",
        "import matplotlib.pyplot as plt\n",
        "import seaborn as sns\n",
        "\n",
        "from numpy import math\n",
        "\n",
        "#sklearn\n",
        "from sklearn.preprocessing import MinMaxScaler\n",
        "from sklearn.model_selection import train_test_split\n",
        "from sklearn.linear_model import LinearRegression\n",
        "from sklearn.metrics import r2_score\n",
        "from sklearn.metrics import mean_squared_error\n",
        "from sklearn.metrics import mean_absolute_error\n"
      ]
    },
    {
      "cell_type": "code",
      "execution_count": null,
      "metadata": {
        "id": "rq-UR-BIj1AC"
      },
      "outputs": [],
      "source": [
        "# from google.colab import drive\n",
        "# drive.mount('/content/drive')"
      ]
    },
    {
      "cell_type": "code",
      "execution_count": null,
      "metadata": {
        "id": "tPpx4MzcjCxG"
      },
      "outputs": [],
      "source": [
        "# Importing the dataset\n",
        "dataset = pd.read_csv('https://raw.githubusercontent.com/RAHULRAJ666DX/50_StartUps_Linear_Regression_Project/main/50_Startups.csv')\n",
        "\n",
        "dataset1 = dataset.copy()"
      ]
    },
    {
      "cell_type": "code",
      "execution_count": null,
      "metadata": {
        "colab": {
          "base_uri": "https://localhost:8080/"
        },
        "id": "1ZRdDurrjCxG",
        "outputId": "02a8d90d-4008-44d9-eac8-f3f8e5610708"
      },
      "outputs": [
        {
          "output_type": "execute_result",
          "data": {
            "text/plain": [
              "50"
            ]
          },
          "metadata": {},
          "execution_count": 4
        }
      ],
      "source": [
        "# Checking the length of Dataset\n",
        "len(dataset)"
      ]
    },
    {
      "cell_type": "code",
      "execution_count": null,
      "metadata": {
        "colab": {
          "base_uri": "https://localhost:8080/",
          "height": 206
        },
        "id": "bACZnbIBCxxI",
        "outputId": "15f4e260-db59-43c2-f04c-a6dc2c044923"
      },
      "outputs": [
        {
          "output_type": "execute_result",
          "data": {
            "text/plain": [
              "   R&D Spend  Administration  Marketing Spend       State     Profit\n",
              "0  165349.20       136897.80        471784.10    New York  192261.83\n",
              "1  162597.70       151377.59        443898.53  California  191792.06\n",
              "2  153441.51       101145.55        407934.54     Florida  191050.39\n",
              "3  144372.41       118671.85        383199.62    New York  182901.99\n",
              "4  142107.34        91391.77        366168.42     Florida  166187.94"
            ],
            "text/html": [
              "\n",
              "  <div id=\"df-a91ca617-2ce1-4391-b0fb-aa4b77aa0292\">\n",
              "    <div class=\"colab-df-container\">\n",
              "      <div>\n",
              "<style scoped>\n",
              "    .dataframe tbody tr th:only-of-type {\n",
              "        vertical-align: middle;\n",
              "    }\n",
              "\n",
              "    .dataframe tbody tr th {\n",
              "        vertical-align: top;\n",
              "    }\n",
              "\n",
              "    .dataframe thead th {\n",
              "        text-align: right;\n",
              "    }\n",
              "</style>\n",
              "<table border=\"1\" class=\"dataframe\">\n",
              "  <thead>\n",
              "    <tr style=\"text-align: right;\">\n",
              "      <th></th>\n",
              "      <th>R&amp;D Spend</th>\n",
              "      <th>Administration</th>\n",
              "      <th>Marketing Spend</th>\n",
              "      <th>State</th>\n",
              "      <th>Profit</th>\n",
              "    </tr>\n",
              "  </thead>\n",
              "  <tbody>\n",
              "    <tr>\n",
              "      <th>0</th>\n",
              "      <td>165349.20</td>\n",
              "      <td>136897.80</td>\n",
              "      <td>471784.10</td>\n",
              "      <td>New York</td>\n",
              "      <td>192261.83</td>\n",
              "    </tr>\n",
              "    <tr>\n",
              "      <th>1</th>\n",
              "      <td>162597.70</td>\n",
              "      <td>151377.59</td>\n",
              "      <td>443898.53</td>\n",
              "      <td>California</td>\n",
              "      <td>191792.06</td>\n",
              "    </tr>\n",
              "    <tr>\n",
              "      <th>2</th>\n",
              "      <td>153441.51</td>\n",
              "      <td>101145.55</td>\n",
              "      <td>407934.54</td>\n",
              "      <td>Florida</td>\n",
              "      <td>191050.39</td>\n",
              "    </tr>\n",
              "    <tr>\n",
              "      <th>3</th>\n",
              "      <td>144372.41</td>\n",
              "      <td>118671.85</td>\n",
              "      <td>383199.62</td>\n",
              "      <td>New York</td>\n",
              "      <td>182901.99</td>\n",
              "    </tr>\n",
              "    <tr>\n",
              "      <th>4</th>\n",
              "      <td>142107.34</td>\n",
              "      <td>91391.77</td>\n",
              "      <td>366168.42</td>\n",
              "      <td>Florida</td>\n",
              "      <td>166187.94</td>\n",
              "    </tr>\n",
              "  </tbody>\n",
              "</table>\n",
              "</div>\n",
              "      <button class=\"colab-df-convert\" onclick=\"convertToInteractive('df-a91ca617-2ce1-4391-b0fb-aa4b77aa0292')\"\n",
              "              title=\"Convert this dataframe to an interactive table.\"\n",
              "              style=\"display:none;\">\n",
              "        \n",
              "  <svg xmlns=\"http://www.w3.org/2000/svg\" height=\"24px\"viewBox=\"0 0 24 24\"\n",
              "       width=\"24px\">\n",
              "    <path d=\"M0 0h24v24H0V0z\" fill=\"none\"/>\n",
              "    <path d=\"M18.56 5.44l.94 2.06.94-2.06 2.06-.94-2.06-.94-.94-2.06-.94 2.06-2.06.94zm-11 1L8.5 8.5l.94-2.06 2.06-.94-2.06-.94L8.5 2.5l-.94 2.06-2.06.94zm10 10l.94 2.06.94-2.06 2.06-.94-2.06-.94-.94-2.06-.94 2.06-2.06.94z\"/><path d=\"M17.41 7.96l-1.37-1.37c-.4-.4-.92-.59-1.43-.59-.52 0-1.04.2-1.43.59L10.3 9.45l-7.72 7.72c-.78.78-.78 2.05 0 2.83L4 21.41c.39.39.9.59 1.41.59.51 0 1.02-.2 1.41-.59l7.78-7.78 2.81-2.81c.8-.78.8-2.07 0-2.86zM5.41 20L4 18.59l7.72-7.72 1.47 1.35L5.41 20z\"/>\n",
              "  </svg>\n",
              "      </button>\n",
              "      \n",
              "  <style>\n",
              "    .colab-df-container {\n",
              "      display:flex;\n",
              "      flex-wrap:wrap;\n",
              "      gap: 12px;\n",
              "    }\n",
              "\n",
              "    .colab-df-convert {\n",
              "      background-color: #E8F0FE;\n",
              "      border: none;\n",
              "      border-radius: 50%;\n",
              "      cursor: pointer;\n",
              "      display: none;\n",
              "      fill: #1967D2;\n",
              "      height: 32px;\n",
              "      padding: 0 0 0 0;\n",
              "      width: 32px;\n",
              "    }\n",
              "\n",
              "    .colab-df-convert:hover {\n",
              "      background-color: #E2EBFA;\n",
              "      box-shadow: 0px 1px 2px rgba(60, 64, 67, 0.3), 0px 1px 3px 1px rgba(60, 64, 67, 0.15);\n",
              "      fill: #174EA6;\n",
              "    }\n",
              "\n",
              "    [theme=dark] .colab-df-convert {\n",
              "      background-color: #3B4455;\n",
              "      fill: #D2E3FC;\n",
              "    }\n",
              "\n",
              "    [theme=dark] .colab-df-convert:hover {\n",
              "      background-color: #434B5C;\n",
              "      box-shadow: 0px 1px 3px 1px rgba(0, 0, 0, 0.15);\n",
              "      filter: drop-shadow(0px 1px 2px rgba(0, 0, 0, 0.3));\n",
              "      fill: #FFFFFF;\n",
              "    }\n",
              "  </style>\n",
              "\n",
              "      <script>\n",
              "        const buttonEl =\n",
              "          document.querySelector('#df-a91ca617-2ce1-4391-b0fb-aa4b77aa0292 button.colab-df-convert');\n",
              "        buttonEl.style.display =\n",
              "          google.colab.kernel.accessAllowed ? 'block' : 'none';\n",
              "\n",
              "        async function convertToInteractive(key) {\n",
              "          const element = document.querySelector('#df-a91ca617-2ce1-4391-b0fb-aa4b77aa0292');\n",
              "          const dataTable =\n",
              "            await google.colab.kernel.invokeFunction('convertToInteractive',\n",
              "                                                     [key], {});\n",
              "          if (!dataTable) return;\n",
              "\n",
              "          const docLinkHtml = 'Like what you see? Visit the ' +\n",
              "            '<a target=\"_blank\" href=https://colab.research.google.com/notebooks/data_table.ipynb>data table notebook</a>'\n",
              "            + ' to learn more about interactive tables.';\n",
              "          element.innerHTML = '';\n",
              "          dataTable['output_type'] = 'display_data';\n",
              "          await google.colab.output.renderOutput(dataTable, element);\n",
              "          const docLink = document.createElement('div');\n",
              "          docLink.innerHTML = docLinkHtml;\n",
              "          element.appendChild(docLink);\n",
              "        }\n",
              "      </script>\n",
              "    </div>\n",
              "  </div>\n",
              "  "
            ]
          },
          "metadata": {},
          "execution_count": 5
        }
      ],
      "source": [
        "# Checking the Dataset\n",
        "dataset.head()"
      ]
    },
    {
      "cell_type": "code",
      "execution_count": null,
      "metadata": {
        "colab": {
          "base_uri": "https://localhost:8080/"
        },
        "id": "B5-7qlkJjCxJ",
        "outputId": "33dae0f2-147d-4975-c97a-f528da5d149d"
      },
      "outputs": [
        {
          "output_type": "execute_result",
          "data": {
            "text/plain": [
              "(50, 5)"
            ]
          },
          "metadata": {},
          "execution_count": 6
        }
      ],
      "source": [
        "# Shape of Dataset\n",
        "dataset.shape"
      ]
    },
    {
      "cell_type": "markdown",
      "source": [
        "**Pair Plot is the best plot to check all the Correlation in the dataset at once**"
      ],
      "metadata": {
        "id": "Gjo187IpRVfg"
      }
    },
    {
      "cell_type": "code",
      "execution_count": null,
      "metadata": {
        "colab": {
          "base_uri": "https://localhost:8080/",
          "height": 743
        },
        "id": "Y_1Sgw6PIwO5",
        "outputId": "67312eb4-4c24-4681-a87c-20b5710d6220"
      },
      "outputs": [
        {
          "output_type": "execute_result",
          "data": {
            "text/plain": [
              "<seaborn.axisgrid.PairGrid at 0x7f5e2d100220>"
            ]
          },
          "metadata": {},
          "execution_count": 7
        },
        {
          "output_type": "display_data",
          "data": {
            "text/plain": [
              "<Figure size 720x720 with 20 Axes>"
            ],
            "image/png": "[encoded data removed]"
          },
          "metadata": {
            "needs_background": "light"
          }
        }
      ],
      "source": [
        "import seaborn as sns\n",
        "sns.pairplot(dataset)"
      ]
    },
    {
      "cell_type": "code",
      "execution_count": null,
      "metadata": {
        "colab": {
          "base_uri": "https://localhost:8080/"
        },
        "id": "CjVRi-ra_IcW",
        "outputId": "25b52aee-c28d-4cbf-e441-4b2506938903"
      },
      "outputs": [
        {
          "output_type": "execute_result",
          "data": {
            "text/plain": [
              "Index(['R&D Spend', 'Administration', 'Marketing Spend', 'State', 'Profit'], dtype='object')"
            ]
          },
          "metadata": {},
          "execution_count": 8
        }
      ],
      "source": [
        "dataset.columns"
      ]
    },
    {
      "cell_type": "markdown",
      "source": [
        "### **Creating a Loop for Scatter plots to check the relation between the Independent and the dependent variables**"
      ],
      "metadata": {
        "id": "jNLDJLzmRzqs"
      }
    },
    {
      "cell_type": "code",
      "execution_count": null,
      "metadata": {
        "colab": {
          "base_uri": "https://localhost:8080/",
          "height": 1000
        },
        "id": "HA0famqJAZen",
        "outputId": "abdb4dd4-942c-4b93-b7e0-b66f96626b1e"
      },
      "outputs": [
        {
          "output_type": "display_data",
          "data": {
            "text/plain": [
              "<Figure size 432x216 with 1 Axes>"
            ],
            "image/png": "[encoded data removed]"
          },
          "metadata": {
            "needs_background": "light"
          }
        },
        {
          "output_type": "display_data",
          "data": {
            "text/plain": [
              "<Figure size 432x216 with 1 Axes>"
            ],
            "image/png": "[encoded data removed]"
          },
          "metadata": {
            "needs_background": "light"
          }
        },
        {
          "output_type": "display_data",
          "data": {
            "text/plain": [
              "<Figure size 432x216 with 1 Axes>"
            ],
            "image/png": "[encoded data removed]"
          },
          "metadata": {
            "needs_background": "light"
          }
        },
        {
          "output_type": "display_data",
          "data": {
            "text/plain": [
              "<Figure size 432x216 with 1 Axes>"
            ],
            "image/png": "[encoded data removed]"
          },
          "metadata": {
            "needs_background": "light"
          }
        },
        {
          "output_type": "display_data",
          "data": {
            "text/plain": [
              "<Figure size 432x216 with 1 Axes>"
            ],
            "image/png": "[encoded data removed]"
          },
          "metadata": {
            "needs_background": "light"
          }
        }
      ],
      "source": [
        "for col in dataset.columns:\n",
        "  plt.figure(figsize=(6, 3))\n",
        "  plt.scatter(dataset[col],dataset['Profit'],alpha=0.6)\n",
        "  plt.title(f\"Scatter plot of Profit with {col}\")\n",
        "  plt.xlabel(f\"{col}\")\n",
        "  plt.ylabel('Profit')\n",
        "  plt.show()\n"
      ]
    },
    {
      "cell_type": "markdown",
      "metadata": {
        "id": "dneajlefDXnM"
      },
      "source": [
        "### **Creating a Loop to plot REGPLOT (scatter,regression line) to check the relation between variables and a possible regression line estimation**"
      ]
    },
    {
      "cell_type": "code",
      "execution_count": null,
      "metadata": {
        "colab": {
          "base_uri": "https://localhost:8080/",
          "height": 975
        },
        "id": "m9pqnqoBr9NA",
        "outputId": "b88ab425-8255-492d-b1aa-d194531fbf3f"
      },
      "outputs": [
        {
          "output_type": "stream",
          "name": "stderr",
          "text": [
            "/usr/local/lib/python3.8/dist-packages/seaborn/_decorators.py:36: FutureWarning: Pass the following variables as keyword args: x, y. From version 0.12, the only valid positional argument will be `data`, and passing other arguments without an explicit keyword will result in an error or misinterpretation.\n",
            "  warnings.warn(\n"
          ]
        },
        {
          "output_type": "display_data",
          "data": {
            "text/plain": [
              "<Figure size 432x288 with 1 Axes>"
            ],
            "image/png": "[encoded data removed]"
          },
          "metadata": {
            "needs_background": "light"
          }
        },
        {
          "output_type": "stream",
          "name": "stderr",
          "text": [
            "/usr/local/lib/python3.8/dist-packages/seaborn/_decorators.py:36: FutureWarning: Pass the following variables as keyword args: x, y. From version 0.12, the only valid positional argument will be `data`, and passing other arguments without an explicit keyword will result in an error or misinterpretation.\n",
            "  warnings.warn(\n"
          ]
        },
        {
          "output_type": "display_data",
          "data": {
            "text/plain": [
              "<Figure size 432x288 with 1 Axes>"
            ],
            "image/png": "[encoded data removed]"
          },
          "metadata": {
            "needs_background": "light"
          }
        },
        {
          "output_type": "stream",
          "name": "stderr",
          "text": [
            "/usr/local/lib/python3.8/dist-packages/seaborn/_decorators.py:36: FutureWarning: Pass the following variables as keyword args: x, y. From version 0.12, the only valid positional argument will be `data`, and passing other arguments without an explicit keyword will result in an error or misinterpretation.\n",
            "  warnings.warn(\n"
          ]
        },
        {
          "output_type": "display_data",
          "data": {
            "text/plain": [
              "<Figure size 432x288 with 1 Axes>"
            ],
            "image/png": "[encoded data removed]"
          },
          "metadata": {
            "needs_background": "light"
          }
        }
      ],
      "source": [
        "for col in dataset.columns[:3]:\n",
        "\n",
        "  sns.regplot(dataset[col].astype(float),dataset['Profit'],line_kws={'color':'red'})\n",
        "  plt.title(f\"Scatter plot of Profit with {col}\")\n",
        "  plt.xlabel(f\"{col}\")\n",
        "  plt.ylabel('Profit')\n",
        "  plt.show()"
      ]
    },
    {
      "cell_type": "markdown",
      "source": [
        "From the Regplot we can say that Marketing Spend, Administration, R&D spend has positive correlation with Profit"
      ],
      "metadata": {
        "id": "j1CmHXtWUn7Z"
      }
    },
    {
      "cell_type": "markdown",
      "source": [
        "### **Checking the Correlation and Plotting the Heatmap for the dataset**"
      ],
      "metadata": {
        "id": "dcY1wjdfVHIs"
      }
    },
    {
      "cell_type": "code",
      "source": [
        "dataset1.corr()"
      ],
      "metadata": {
        "colab": {
          "base_uri": "https://localhost:8080/",
          "height": 175
        },
        "id": "Ne5S6YpHVA4B",
        "outputId": "7f780601-bd88-4145-9ce7-713a850c0ffe"
      },
      "execution_count": null,
      "outputs": [
        {
          "output_type": "execute_result",
          "data": {
            "text/plain": [
              "                 R&D Spend  Administration  Marketing Spend    Profit\n",
              "R&D Spend         1.000000        0.241955         0.724248  0.972900\n",
              "Administration    0.241955        1.000000        -0.032154  0.200717\n",
              "Marketing Spend   0.724248       -0.032154         1.000000  0.747766\n",
              "Profit            0.972900        0.200717         0.747766  1.000000"
            ],
            "text/html": [
              "\n",
              "  <div id=\"df-1e9a052d-47a2-4ad5-8778-f45627c01006\">\n",
              "    <div class=\"colab-df-container\">\n",
              "      <div>\n",
              "<style scoped>\n",
              "    .dataframe tbody tr th:only-of-type {\n",
              "        vertical-align: middle;\n",
              "    }\n",
              "\n",
              "    .dataframe tbody tr th {\n",
              "        vertical-align: top;\n",
              "    }\n",
              "\n",
              "    .dataframe thead th {\n",
              "        text-align: right;\n",
              "    }\n",
              "</style>\n",
              "<table border=\"1\" class=\"dataframe\">\n",
              "  <thead>\n",
              "    <tr style=\"text-align: right;\">\n",
              "      <th></th>\n",
              "      <th>R&amp;D Spend</th>\n",
              "      <th>Administration</th>\n",
              "      <th>Marketing Spend</th>\n",
              "      <th>Profit</th>\n",
              "    </tr>\n",
              "  </thead>\n",
              "  <tbody>\n",
              "    <tr>\n",
              "      <th>R&amp;D Spend</th>\n",
              "      <td>1.000000</td>\n",
              "      <td>0.241955</td>\n",
              "      <td>0.724248</td>\n",
              "      <td>0.972900</td>\n",
              "    </tr>\n",
              "    <tr>\n",
              "      <th>Administration</th>\n",
              "      <td>0.241955</td>\n",
              "      <td>1.000000</td>\n",
              "      <td>-0.032154</td>\n",
              "      <td>0.200717</td>\n",
              "    </tr>\n",
              "    <tr>\n",
              "      <th>Marketing Spend</th>\n",
              "      <td>0.724248</td>\n",
              "      <td>-0.032154</td>\n",
              "      <td>1.000000</td>\n",
              "      <td>0.747766</td>\n",
              "    </tr>\n",
              "    <tr>\n",
              "      <th>Profit</th>\n",
              "      <td>0.972900</td>\n",
              "      <td>0.200717</td>\n",
              "      <td>0.747766</td>\n",
              "      <td>1.000000</td>\n",
              "    </tr>\n",
              "  </tbody>\n",
              "</table>\n",
              "</div>\n",
              "      <button class=\"colab-df-convert\" onclick=\"convertToInteractive('df-1e9a052d-47a2-4ad5-8778-f45627c01006')\"\n",
              "              title=\"Convert this dataframe to an interactive table.\"\n",
              "              style=\"display:none;\">\n",
              "        \n",
              "  <svg xmlns=\"http://www.w3.org/2000/svg\" height=\"24px\"viewBox=\"0 0 24 24\"\n",
              "       width=\"24px\">\n",
              "    <path d=\"M0 0h24v24H0V0z\" fill=\"none\"/>\n",
              "    <path d=\"M18.56 5.44l.94 2.06.94-2.06 2.06-.94-2.06-.94-.94-2.06-.94 2.06-2.06.94zm-11 1L8.5 8.5l.94-2.06 2.06-.94-2.06-.94L8.5 2.5l-.94 2.06-2.06.94zm10 10l.94 2.06.94-2.06 2.06-.94-2.06-.94-.94-2.06-.94 2.06-2.06.94z\"/><path d=\"M17.41 7.96l-1.37-1.37c-.4-.4-.92-.59-1.43-.59-.52 0-1.04.2-1.43.59L10.3 9.45l-7.72 7.72c-.78.78-.78 2.05 0 2.83L4 21.41c.39.39.9.59 1.41.59.51 0 1.02-.2 1.41-.59l7.78-7.78 2.81-2.81c.8-.78.8-2.07 0-2.86zM5.41 20L4 18.59l7.72-7.72 1.47 1.35L5.41 20z\"/>\n",
              "  </svg>\n",
              "      </button>\n",
              "      \n",
              "  <style>\n",
              "    .colab-df-container {\n",
              "      display:flex;\n",
              "      flex-wrap:wrap;\n",
              "      gap: 12px;\n",
              "    }\n",
              "\n",
              "    .colab-df-convert {\n",
              "      background-color: #E8F0FE;\n",
              "      border: none;\n",
              "      border-radius: 50%;\n",
              "      cursor: pointer;\n",
              "      display: none;\n",
              "      fill: #1967D2;\n",
              "      height: 32px;\n",
              "      padding: 0 0 0 0;\n",
              "      width: 32px;\n",
              "    }\n",
              "\n",
              "    .colab-df-convert:hover {\n",
              "      background-color: #E2EBFA;\n",
              "      box-shadow: 0px 1px 2px rgba(60, 64, 67, 0.3), 0px 1px 3px 1px rgba(60, 64, 67, 0.15);\n",
              "      fill: #174EA6;\n",
              "    }\n",
              "\n",
              "    [theme=dark] .colab-df-convert {\n",
              "      background-color: #3B4455;\n",
              "      fill: #D2E3FC;\n",
              "    }\n",
              "\n",
              "    [theme=dark] .colab-df-convert:hover {\n",
              "      background-color: #434B5C;\n",
              "      box-shadow: 0px 1px 3px 1px rgba(0, 0, 0, 0.15);\n",
              "      filter: drop-shadow(0px 1px 2px rgba(0, 0, 0, 0.3));\n",
              "      fill: #FFFFFF;\n",
              "    }\n",
              "  </style>\n",
              "\n",
              "      <script>\n",
              "        const buttonEl =\n",
              "          document.querySelector('#df-1e9a052d-47a2-4ad5-8778-f45627c01006 button.colab-df-convert');\n",
              "        buttonEl.style.display =\n",
              "          google.colab.kernel.accessAllowed ? 'block' : 'none';\n",
              "\n",
              "        async function convertToInteractive(key) {\n",
              "          const element = document.querySelector('#df-1e9a052d-47a2-4ad5-8778-f45627c01006');\n",
              "          const dataTable =\n",
              "            await google.colab.kernel.invokeFunction('convertToInteractive',\n",
              "                                                     [key], {});\n",
              "          if (!dataTable) return;\n",
              "\n",
              "          const docLinkHtml = 'Like what you see? Visit the ' +\n",
              "            '<a target=\"_blank\" href=https://colab.research.google.com/notebooks/data_table.ipynb>data table notebook</a>'\n",
              "            + ' to learn more about interactive tables.';\n",
              "          element.innerHTML = '';\n",
              "          dataTable['output_type'] = 'display_data';\n",
              "          await google.colab.output.renderOutput(dataTable, element);\n",
              "          const docLink = document.createElement('div');\n",
              "          docLink.innerHTML = docLinkHtml;\n",
              "          element.appendChild(docLink);\n",
              "        }\n",
              "      </script>\n",
              "    </div>\n",
              "  </div>\n",
              "  "
            ]
          },
          "metadata": {},
          "execution_count": 11
        }
      ]
    },
    {
      "cell_type": "code",
      "source": [
        "sns.heatmap(dataset1.corr(), cmap=sns.color_palette(\"coolwarm\", 32),annot=True, linewidths=2, linecolor='white')"
      ],
      "metadata": {
        "colab": {
          "base_uri": "https://localhost:8080/",
          "height": 361
        },
        "id": "TEUnKzkjVTPE",
        "outputId": "c36e6c95-bdd2-4fb2-9994-e678f0274e17"
      },
      "execution_count": null,
      "outputs": [
        {
          "output_type": "execute_result",
          "data": {
            "text/plain": [
              "<matplotlib.axes._subplots.AxesSubplot at 0x7f5e29e604f0>"
            ]
          },
          "metadata": {},
          "execution_count": 12
        },
        {
          "output_type": "display_data",
          "data": {
            "text/plain": [
              "<Figure size 432x288 with 2 Axes>"
            ],
            "image/png": "[encoded data removed]"
          },
          "metadata": {
            "needs_background": "light"
          }
        }
      ]
    },
    {
      "cell_type": "markdown",
      "source": [
        "### **Checking the \"State\" column unique values**\n"
      ],
      "metadata": {
        "id": "HfHK8emaXGVa"
      }
    },
    {
      "cell_type": "code",
      "source": [
        "# Checking the \"State\" column unique values\n",
        "dataset1.State.unique()"
      ],
      "metadata": {
        "colab": {
          "base_uri": "https://localhost:8080/"
        },
        "id": "XeXqjrfFSF74",
        "outputId": "6503818a-2f8d-41e6-a9a4-c39d6af3d582"
      },
      "execution_count": null,
      "outputs": [
        {
          "output_type": "execute_result",
          "data": {
            "text/plain": [
              "array(['New York', 'California', 'Florida'], dtype=object)"
            ]
          },
          "metadata": {},
          "execution_count": 13
        }
      ]
    },
    {
      "cell_type": "markdown",
      "source": [
        "**As we can see we have 3 different states name in the column and we will try to Groupby interms of Profit**"
      ],
      "metadata": {
        "id": "UZ6BtrhZS5BT"
      }
    },
    {
      "cell_type": "code",
      "execution_count": null,
      "metadata": {
        "colab": {
          "base_uri": "https://localhost:8080/",
          "height": 143
        },
        "id": "4EpGYvY2jCxL",
        "outputId": "c8d9abae-f8b2-4cc6-cc19-2c800337585f"
      },
      "outputs": [
        {
          "output_type": "execute_result",
          "data": {
            "text/plain": [
              "        index  State\n",
              "0    New York     17\n",
              "1  California     17\n",
              "2     Florida     16"
            ],
            "text/html": [
              "\n",
              "  <div id=\"df-f5ba8e7e-a6a2-459e-81e4-7897f1cafa11\">\n",
              "    <div class=\"colab-df-container\">\n",
              "      <div>\n",
              "<style scoped>\n",
              "    .dataframe tbody tr th:only-of-type {\n",
              "        vertical-align: middle;\n",
              "    }\n",
              "\n",
              "    .dataframe tbody tr th {\n",
              "        vertical-align: top;\n",
              "    }\n",
              "\n",
              "    .dataframe thead th {\n",
              "        text-align: right;\n",
              "    }\n",
              "</style>\n",
              "<table border=\"1\" class=\"dataframe\">\n",
              "  <thead>\n",
              "    <tr style=\"text-align: right;\">\n",
              "      <th></th>\n",
              "      <th>index</th>\n",
              "      <th>State</th>\n",
              "    </tr>\n",
              "  </thead>\n",
              "  <tbody>\n",
              "    <tr>\n",
              "      <th>0</th>\n",
              "      <td>New York</td>\n",
              "      <td>17</td>\n",
              "    </tr>\n",
              "    <tr>\n",
              "      <th>1</th>\n",
              "      <td>California</td>\n",
              "      <td>17</td>\n",
              "    </tr>\n",
              "    <tr>\n",
              "      <th>2</th>\n",
              "      <td>Florida</td>\n",
              "      <td>16</td>\n",
              "    </tr>\n",
              "  </tbody>\n",
              "</table>\n",
              "</div>\n",
              "      <button class=\"colab-df-convert\" onclick=\"convertToInteractive('df-f5ba8e7e-a6a2-459e-81e4-7897f1cafa11')\"\n",
              "              title=\"Convert this dataframe to an interactive table.\"\n",
              "              style=\"display:none;\">\n",
              "        \n",
              "  <svg xmlns=\"http://www.w3.org/2000/svg\" height=\"24px\"viewBox=\"0 0 24 24\"\n",
              "       width=\"24px\">\n",
              "    <path d=\"M0 0h24v24H0V0z\" fill=\"none\"/>\n",
              "    <path d=\"M18.56 5.44l.94 2.06.94-2.06 2.06-.94-2.06-.94-.94-2.06-.94 2.06-2.06.94zm-11 1L8.5 8.5l.94-2.06 2.06-.94-2.06-.94L8.5 2.5l-.94 2.06-2.06.94zm10 10l.94 2.06.94-2.06 2.06-.94-2.06-.94-.94-2.06-.94 2.06-2.06.94z\"/><path d=\"M17.41 7.96l-1.37-1.37c-.4-.4-.92-.59-1.43-.59-.52 0-1.04.2-1.43.59L10.3 9.45l-7.72 7.72c-.78.78-.78 2.05 0 2.83L4 21.41c.39.39.9.59 1.41.59.51 0 1.02-.2 1.41-.59l7.78-7.78 2.81-2.81c.8-.78.8-2.07 0-2.86zM5.41 20L4 18.59l7.72-7.72 1.47 1.35L5.41 20z\"/>\n",
              "  </svg>\n",
              "      </button>\n",
              "      \n",
              "  <style>\n",
              "    .colab-df-container {\n",
              "      display:flex;\n",
              "      flex-wrap:wrap;\n",
              "      gap: 12px;\n",
              "    }\n",
              "\n",
              "    .colab-df-convert {\n",
              "      background-color: #E8F0FE;\n",
              "      border: none;\n",
              "      border-radius: 50%;\n",
              "      cursor: pointer;\n",
              "      display: none;\n",
              "      fill: #1967D2;\n",
              "      height: 32px;\n",
              "      padding: 0 0 0 0;\n",
              "      width: 32px;\n",
              "    }\n",
              "\n",
              "    .colab-df-convert:hover {\n",
              "      background-color: #E2EBFA;\n",
              "      box-shadow: 0px 1px 2px rgba(60, 64, 67, 0.3), 0px 1px 3px 1px rgba(60, 64, 67, 0.15);\n",
              "      fill: #174EA6;\n",
              "    }\n",
              "\n",
              "    [theme=dark] .colab-df-convert {\n",
              "      background-color: #3B4455;\n",
              "      fill: #D2E3FC;\n",
              "    }\n",
              "\n",
              "    [theme=dark] .colab-df-convert:hover {\n",
              "      background-color: #434B5C;\n",
              "      box-shadow: 0px 1px 3px 1px rgba(0, 0, 0, 0.15);\n",
              "      filter: drop-shadow(0px 1px 2px rgba(0, 0, 0, 0.3));\n",
              "      fill: #FFFFFF;\n",
              "    }\n",
              "  </style>\n",
              "\n",
              "      <script>\n",
              "        const buttonEl =\n",
              "          document.querySelector('#df-f5ba8e7e-a6a2-459e-81e4-7897f1cafa11 button.colab-df-convert');\n",
              "        buttonEl.style.display =\n",
              "          google.colab.kernel.accessAllowed ? 'block' : 'none';\n",
              "\n",
              "        async function convertToInteractive(key) {\n",
              "          const element = document.querySelector('#df-f5ba8e7e-a6a2-459e-81e4-7897f1cafa11');\n",
              "          const dataTable =\n",
              "            await google.colab.kernel.invokeFunction('convertToInteractive',\n",
              "                                                     [key], {});\n",
              "          if (!dataTable) return;\n",
              "\n",
              "          const docLinkHtml = 'Like what you see? Visit the ' +\n",
              "            '<a target=\"_blank\" href=https://colab.research.google.com/notebooks/data_table.ipynb>data table notebook</a>'\n",
              "            + ' to learn more about interactive tables.';\n",
              "          element.innerHTML = '';\n",
              "          dataTable['output_type'] = 'display_data';\n",
              "          await google.colab.output.renderOutput(dataTable, element);\n",
              "          const docLink = document.createElement('div');\n",
              "          docLink.innerHTML = docLinkHtml;\n",
              "          element.appendChild(docLink);\n",
              "        }\n",
              "      </script>\n",
              "    </div>\n",
              "  </div>\n",
              "  "
            ]
          },
          "metadata": {},
          "execution_count": 14
        }
      ],
      "source": [
        "dataset.State.value_counts().reset_index()"
      ]
    },
    {
      "cell_type": "code",
      "execution_count": null,
      "metadata": {
        "colab": {
          "base_uri": "https://localhost:8080/",
          "height": 439
        },
        "id": "r4Ko2IDIjCxK",
        "scrolled": true,
        "outputId": "6c6510e5-38ef-44e9-c710-6561cb1a540d"
      },
      "outputs": [
        {
          "output_type": "execute_result",
          "data": {
            "text/plain": [
              "Text(0, 0.5, 'Profit')"
            ]
          },
          "metadata": {},
          "execution_count": 15
        },
        {
          "output_type": "display_data",
          "data": {
            "text/plain": [
              "<Figure size 720x360 with 1 Axes>"
            ],
            "image/png": "[encoded data removed]"
          },
          "metadata": {
            "needs_background": "light"
          }
        }
      ],
      "source": [
        "# Create the figure object\n",
        "ax = dataset1.groupby(['State'])['Profit'].mean().plot.bar(\n",
        "    figsize = (10,5),\n",
        "    fontsize = 14\n",
        ")\n",
        "\n",
        "# Set the title\n",
        "ax.set_title(\"Average profit for different states\", fontsize = 20)\n",
        "\n",
        "# Set x and y-labels\n",
        "ax.set_xlabel(\"State\", fontsize = 22)\n",
        "ax.set_ylabel(\"Profit\", fontsize = 22)"
      ]
    },
    {
      "cell_type": "markdown",
      "metadata": {
        "id": "SQYi8Wit4stz"
      },
      "source": [
        "### **Creating a Dummy Variable for State Column to convert it into a numerical column**"
      ]
    },
    {
      "cell_type": "code",
      "source": [
        "dataset1.columns"
      ],
      "metadata": {
        "colab": {
          "base_uri": "https://localhost:8080/"
        },
        "id": "DrAJ1vTeXOLk",
        "outputId": "16c3dbdb-6081-4eec-b0e9-e57867fc5acc"
      },
      "execution_count": null,
      "outputs": [
        {
          "output_type": "execute_result",
          "data": {
            "text/plain": [
              "Index(['R&D Spend', 'Administration', 'Marketing Spend', 'State', 'Profit'], dtype='object')"
            ]
          },
          "metadata": {},
          "execution_count": 16
        }
      ]
    },
    {
      "cell_type": "code",
      "execution_count": null,
      "metadata": {
        "id": "vkF4Ve4tjCxL"
      },
      "outputs": [],
      "source": [
        "# Create dummy variables for the catgeorical variable State\n",
        "# dataset['NewYork_State'] = np.where(dataset['State']=='New York', 1, 0)\n",
        "# dataset['California_State'] = np.where(dataset['State']=='California', 1, 0)\n",
        "# dataset['Florida_State'] = np.where(dataset['State']=='Florida', 1, 0)"
      ]
    },
    {
      "cell_type": "code",
      "execution_count": null,
      "metadata": {
        "colab": {
          "base_uri": "https://localhost:8080/",
          "height": 206
        },
        "id": "YRRNd0jD6dTw",
        "outputId": "62937d6c-ae91-4a04-9135-ffb85ce19a06"
      },
      "outputs": [
        {
          "output_type": "execute_result",
          "data": {
            "text/plain": [
              "   R&D Spend  Administration  Marketing Spend     Profit  State_California  \\\n",
              "0  165349.20       136897.80        471784.10  192261.83                 0   \n",
              "1  162597.70       151377.59        443898.53  191792.06                 1   \n",
              "2  153441.51       101145.55        407934.54  191050.39                 0   \n",
              "3  144372.41       118671.85        383199.62  182901.99                 0   \n",
              "4  142107.34        91391.77        366168.42  166187.94                 0   \n",
              "\n",
              "   State_Florida  State_New York  \n",
              "0              0               1  \n",
              "1              0               0  \n",
              "2              1               0  \n",
              "3              0               1  \n",
              "4              1               0  "
            ],
            "text/html": [
              "\n",
              "  <div id=\"df-49410a21-dc11-470b-821f-68d8f716c511\">\n",
              "    <div class=\"colab-df-container\">\n",
              "      <div>\n",
              "<style scoped>\n",
              "    .dataframe tbody tr th:only-of-type {\n",
              "        vertical-align: middle;\n",
              "    }\n",
              "\n",
              "    .dataframe tbody tr th {\n",
              "        vertical-align: top;\n",
              "    }\n",
              "\n",
              "    .dataframe thead th {\n",
              "        text-align: right;\n",
              "    }\n",
              "</style>\n",
              "<table border=\"1\" class=\"dataframe\">\n",
              "  <thead>\n",
              "    <tr style=\"text-align: right;\">\n",
              "      <th></th>\n",
              "      <th>R&amp;D Spend</th>\n",
              "      <th>Administration</th>\n",
              "      <th>Marketing Spend</th>\n",
              "      <th>Profit</th>\n",
              "      <th>State_California</th>\n",
              "      <th>State_Florida</th>\n",
              "      <th>State_New York</th>\n",
              "    </tr>\n",
              "  </thead>\n",
              "  <tbody>\n",
              "    <tr>\n",
              "      <th>0</th>\n",
              "      <td>165349.20</td>\n",
              "      <td>136897.80</td>\n",
              "      <td>471784.10</td>\n",
              "      <td>192261.83</td>\n",
              "      <td>0</td>\n",
              "      <td>0</td>\n",
              "      <td>1</td>\n",
              "    </tr>\n",
              "    <tr>\n",
              "      <th>1</th>\n",
              "      <td>162597.70</td>\n",
              "      <td>151377.59</td>\n",
              "      <td>443898.53</td>\n",
              "      <td>191792.06</td>\n",
              "      <td>1</td>\n",
              "      <td>0</td>\n",
              "      <td>0</td>\n",
              "    </tr>\n",
              "    <tr>\n",
              "      <th>2</th>\n",
              "      <td>153441.51</td>\n",
              "      <td>101145.55</td>\n",
              "      <td>407934.54</td>\n",
              "      <td>191050.39</td>\n",
              "      <td>0</td>\n",
              "      <td>1</td>\n",
              "      <td>0</td>\n",
              "    </tr>\n",
              "    <tr>\n",
              "      <th>3</th>\n",
              "      <td>144372.41</td>\n",
              "      <td>118671.85</td>\n",
              "      <td>383199.62</td>\n",
              "      <td>182901.99</td>\n",
              "      <td>0</td>\n",
              "      <td>0</td>\n",
              "      <td>1</td>\n",
              "    </tr>\n",
              "    <tr>\n",
              "      <th>4</th>\n",
              "      <td>142107.34</td>\n",
              "      <td>91391.77</td>\n",
              "      <td>366168.42</td>\n",
              "      <td>166187.94</td>\n",
              "      <td>0</td>\n",
              "      <td>1</td>\n",
              "      <td>0</td>\n",
              "    </tr>\n",
              "  </tbody>\n",
              "</table>\n",
              "</div>\n",
              "      <button class=\"colab-df-convert\" onclick=\"convertToInteractive('df-49410a21-dc11-470b-821f-68d8f716c511')\"\n",
              "              title=\"Convert this dataframe to an interactive table.\"\n",
              "              style=\"display:none;\">\n",
              "        \n",
              "  <svg xmlns=\"http://www.w3.org/2000/svg\" height=\"24px\"viewBox=\"0 0 24 24\"\n",
              "       width=\"24px\">\n",
              "    <path d=\"M0 0h24v24H0V0z\" fill=\"none\"/>\n",
              "    <path d=\"M18.56 5.44l.94 2.06.94-2.06 2.06-.94-2.06-.94-.94-2.06-.94 2.06-2.06.94zm-11 1L8.5 8.5l.94-2.06 2.06-.94-2.06-.94L8.5 2.5l-.94 2.06-2.06.94zm10 10l.94 2.06.94-2.06 2.06-.94-2.06-.94-.94-2.06-.94 2.06-2.06.94z\"/><path d=\"M17.41 7.96l-1.37-1.37c-.4-.4-.92-.59-1.43-.59-.52 0-1.04.2-1.43.59L10.3 9.45l-7.72 7.72c-.78.78-.78 2.05 0 2.83L4 21.41c.39.39.9.59 1.41.59.51 0 1.02-.2 1.41-.59l7.78-7.78 2.81-2.81c.8-.78.8-2.07 0-2.86zM5.41 20L4 18.59l7.72-7.72 1.47 1.35L5.41 20z\"/>\n",
              "  </svg>\n",
              "      </button>\n",
              "      \n",
              "  <style>\n",
              "    .colab-df-container {\n",
              "      display:flex;\n",
              "      flex-wrap:wrap;\n",
              "      gap: 12px;\n",
              "    }\n",
              "\n",
              "    .colab-df-convert {\n",
              "      background-color: #E8F0FE;\n",
              "      border: none;\n",
              "      border-radius: 50%;\n",
              "      cursor: pointer;\n",
              "      display: none;\n",
              "      fill: #1967D2;\n",
              "      height: 32px;\n",
              "      padding: 0 0 0 0;\n",
              "      width: 32px;\n",
              "    }\n",
              "\n",
              "    .colab-df-convert:hover {\n",
              "      background-color: #E2EBFA;\n",
              "      box-shadow: 0px 1px 2px rgba(60, 64, 67, 0.3), 0px 1px 3px 1px rgba(60, 64, 67, 0.15);\n",
              "      fill: #174EA6;\n",
              "    }\n",
              "\n",
              "    [theme=dark] .colab-df-convert {\n",
              "      background-color: #3B4455;\n",
              "      fill: #D2E3FC;\n",
              "    }\n",
              "\n",
              "    [theme=dark] .colab-df-convert:hover {\n",
              "      background-color: #434B5C;\n",
              "      box-shadow: 0px 1px 3px 1px rgba(0, 0, 0, 0.15);\n",
              "      filter: drop-shadow(0px 1px 2px rgba(0, 0, 0, 0.3));\n",
              "      fill: #FFFFFF;\n",
              "    }\n",
              "  </style>\n",
              "\n",
              "      <script>\n",
              "        const buttonEl =\n",
              "          document.querySelector('#df-49410a21-dc11-470b-821f-68d8f716c511 button.colab-df-convert');\n",
              "        buttonEl.style.display =\n",
              "          google.colab.kernel.accessAllowed ? 'block' : 'none';\n",
              "\n",
              "        async function convertToInteractive(key) {\n",
              "          const element = document.querySelector('#df-49410a21-dc11-470b-821f-68d8f716c511');\n",
              "          const dataTable =\n",
              "            await google.colab.kernel.invokeFunction('convertToInteractive',\n",
              "                                                     [key], {});\n",
              "          if (!dataTable) return;\n",
              "\n",
              "          const docLinkHtml = 'Like what you see? Visit the ' +\n",
              "            '<a target=\"_blank\" href=https://colab.research.google.com/notebooks/data_table.ipynb>data table notebook</a>'\n",
              "            + ' to learn more about interactive tables.';\n",
              "          element.innerHTML = '';\n",
              "          dataTable['output_type'] = 'display_data';\n",
              "          await google.colab.output.renderOutput(dataTable, element);\n",
              "          const docLink = document.createElement('div');\n",
              "          docLink.innerHTML = docLinkHtml;\n",
              "          element.appendChild(docLink);\n",
              "        }\n",
              "      </script>\n",
              "    </div>\n",
              "  </div>\n",
              "  "
            ]
          },
          "metadata": {},
          "execution_count": 18
        }
      ],
      "source": [
        "dataset1 = pd.get_dummies(dataset1)\n",
        "dataset1.head()"
      ]
    },
    {
      "cell_type": "markdown",
      "source": [
        "Since we now have all the columns with Numerical Data we can now Divide them into Independent and Dependent dataframes"
      ],
      "metadata": {
        "id": "uZUyPD3sXa1q"
      }
    },
    {
      "cell_type": "code",
      "execution_count": null,
      "metadata": {
        "id": "G1icsrC789dc"
      },
      "outputs": [],
      "source": [
        "dataset1.drop(columns=['Profit'], inplace=True)\n"
      ]
    },
    {
      "cell_type": "code",
      "execution_count": null,
      "metadata": {
        "colab": {
          "base_uri": "https://localhost:8080/",
          "height": 112
        },
        "id": "yYaMhXea9HmZ",
        "outputId": "1d3881e3-28dd-4054-95e9-d1a1ca1d03d5"
      },
      "outputs": [
        {
          "output_type": "execute_result",
          "data": {
            "text/plain": [
              "   R&D Spend  Administration  Marketing Spend  State_California  \\\n",
              "0   165349.2       136897.80        471784.10                 0   \n",
              "1   162597.7       151377.59        443898.53                 1   \n",
              "\n",
              "   State_Florida  State_New York  \n",
              "0              0               1  \n",
              "1              0               0  "
            ],
            "text/html": [
              "\n",
              "  <div id=\"df-1736256b-8783-4734-98e3-99f6f7bd5b85\">\n",
              "    <div class=\"colab-df-container\">\n",
              "      <div>\n",
              "<style scoped>\n",
              "    .dataframe tbody tr th:only-of-type {\n",
              "        vertical-align: middle;\n",
              "    }\n",
              "\n",
              "    .dataframe tbody tr th {\n",
              "        vertical-align: top;\n",
              "    }\n",
              "\n",
              "    .dataframe thead th {\n",
              "        text-align: right;\n",
              "    }\n",
              "</style>\n",
              "<table border=\"1\" class=\"dataframe\">\n",
              "  <thead>\n",
              "    <tr style=\"text-align: right;\">\n",
              "      <th></th>\n",
              "      <th>R&amp;D Spend</th>\n",
              "      <th>Administration</th>\n",
              "      <th>Marketing Spend</th>\n",
              "      <th>State_California</th>\n",
              "      <th>State_Florida</th>\n",
              "      <th>State_New York</th>\n",
              "    </tr>\n",
              "  </thead>\n",
              "  <tbody>\n",
              "    <tr>\n",
              "      <th>0</th>\n",
              "      <td>165349.2</td>\n",
              "      <td>136897.80</td>\n",
              "      <td>471784.10</td>\n",
              "      <td>0</td>\n",
              "      <td>0</td>\n",
              "      <td>1</td>\n",
              "    </tr>\n",
              "    <tr>\n",
              "      <th>1</th>\n",
              "      <td>162597.7</td>\n",
              "      <td>151377.59</td>\n",
              "      <td>443898.53</td>\n",
              "      <td>1</td>\n",
              "      <td>0</td>\n",
              "      <td>0</td>\n",
              "    </tr>\n",
              "  </tbody>\n",
              "</table>\n",
              "</div>\n",
              "      <button class=\"colab-df-convert\" onclick=\"convertToInteractive('df-1736256b-8783-4734-98e3-99f6f7bd5b85')\"\n",
              "              title=\"Convert this dataframe to an interactive table.\"\n",
              "              style=\"display:none;\">\n",
              "        \n",
              "  <svg xmlns=\"http://www.w3.org/2000/svg\" height=\"24px\"viewBox=\"0 0 24 24\"\n",
              "       width=\"24px\">\n",
              "    <path d=\"M0 0h24v24H0V0z\" fill=\"none\"/>\n",
              "    <path d=\"M18.56 5.44l.94 2.06.94-2.06 2.06-.94-2.06-.94-.94-2.06-.94 2.06-2.06.94zm-11 1L8.5 8.5l.94-2.06 2.06-.94-2.06-.94L8.5 2.5l-.94 2.06-2.06.94zm10 10l.94 2.06.94-2.06 2.06-.94-2.06-.94-.94-2.06-.94 2.06-2.06.94z\"/><path d=\"M17.41 7.96l-1.37-1.37c-.4-.4-.92-.59-1.43-.59-.52 0-1.04.2-1.43.59L10.3 9.45l-7.72 7.72c-.78.78-.78 2.05 0 2.83L4 21.41c.39.39.9.59 1.41.59.51 0 1.02-.2 1.41-.59l7.78-7.78 2.81-2.81c.8-.78.8-2.07 0-2.86zM5.41 20L4 18.59l7.72-7.72 1.47 1.35L5.41 20z\"/>\n",
              "  </svg>\n",
              "      </button>\n",
              "      \n",
              "  <style>\n",
              "    .colab-df-container {\n",
              "      display:flex;\n",
              "      flex-wrap:wrap;\n",
              "      gap: 12px;\n",
              "    }\n",
              "\n",
              "    .colab-df-convert {\n",
              "      background-color: #E8F0FE;\n",
              "      border: none;\n",
              "      border-radius: 50%;\n",
              "      cursor: pointer;\n",
              "      display: none;\n",
              "      fill: #1967D2;\n",
              "      height: 32px;\n",
              "      padding: 0 0 0 0;\n",
              "      width: 32px;\n",
              "    }\n",
              "\n",
              "    .colab-df-convert:hover {\n",
              "      background-color: #E2EBFA;\n",
              "      box-shadow: 0px 1px 2px rgba(60, 64, 67, 0.3), 0px 1px 3px 1px rgba(60, 64, 67, 0.15);\n",
              "      fill: #174EA6;\n",
              "    }\n",
              "\n",
              "    [theme=dark] .colab-df-convert {\n",
              "      background-color: #3B4455;\n",
              "      fill: #D2E3FC;\n",
              "    }\n",
              "\n",
              "    [theme=dark] .colab-df-convert:hover {\n",
              "      background-color: #434B5C;\n",
              "      box-shadow: 0px 1px 3px 1px rgba(0, 0, 0, 0.15);\n",
              "      filter: drop-shadow(0px 1px 2px rgba(0, 0, 0, 0.3));\n",
              "      fill: #FFFFFF;\n",
              "    }\n",
              "  </style>\n",
              "\n",
              "      <script>\n",
              "        const buttonEl =\n",
              "          document.querySelector('#df-1736256b-8783-4734-98e3-99f6f7bd5b85 button.colab-df-convert');\n",
              "        buttonEl.style.display =\n",
              "          google.colab.kernel.accessAllowed ? 'block' : 'none';\n",
              "\n",
              "        async function convertToInteractive(key) {\n",
              "          const element = document.querySelector('#df-1736256b-8783-4734-98e3-99f6f7bd5b85');\n",
              "          const dataTable =\n",
              "            await google.colab.kernel.invokeFunction('convertToInteractive',\n",
              "                                                     [key], {});\n",
              "          if (!dataTable) return;\n",
              "\n",
              "          const docLinkHtml = 'Like what you see? Visit the ' +\n",
              "            '<a target=\"_blank\" href=https://colab.research.google.com/notebooks/data_table.ipynb>data table notebook</a>'\n",
              "            + ' to learn more about interactive tables.';\n",
              "          element.innerHTML = '';\n",
              "          dataTable['output_type'] = 'display_data';\n",
              "          await google.colab.output.renderOutput(dataTable, element);\n",
              "          const docLink = document.createElement('div');\n",
              "          docLink.innerHTML = docLinkHtml;\n",
              "          element.appendChild(docLink);\n",
              "        }\n",
              "      </script>\n",
              "    </div>\n",
              "  </div>\n",
              "  "
            ]
          },
          "metadata": {},
          "execution_count": 20
        }
      ],
      "source": [
        "Independent = dataset1\n",
        "Independent.head(2)"
      ]
    },
    {
      "cell_type": "code",
      "execution_count": null,
      "metadata": {
        "colab": {
          "base_uri": "https://localhost:8080/",
          "height": 143
        },
        "id": "7YPOL_i1PoJ6",
        "outputId": "d2a63ad8-b7d9-42da-acbe-9b5646853f55"
      },
      "outputs": [
        {
          "output_type": "execute_result",
          "data": {
            "text/plain": [
              "   index     Profit\n",
              "0      0  192261.83\n",
              "1      1  191792.06\n",
              "2      2  191050.39"
            ],
            "text/html": [
              "\n",
              "  <div id=\"df-e4893d0a-5ef9-4e5e-9c11-fdb4cbbe12a4\">\n",
              "    <div class=\"colab-df-container\">\n",
              "      <div>\n",
              "<style scoped>\n",
              "    .dataframe tbody tr th:only-of-type {\n",
              "        vertical-align: middle;\n",
              "    }\n",
              "\n",
              "    .dataframe tbody tr th {\n",
              "        vertical-align: top;\n",
              "    }\n",
              "\n",
              "    .dataframe thead th {\n",
              "        text-align: right;\n",
              "    }\n",
              "</style>\n",
              "<table border=\"1\" class=\"dataframe\">\n",
              "  <thead>\n",
              "    <tr style=\"text-align: right;\">\n",
              "      <th></th>\n",
              "      <th>index</th>\n",
              "      <th>Profit</th>\n",
              "    </tr>\n",
              "  </thead>\n",
              "  <tbody>\n",
              "    <tr>\n",
              "      <th>0</th>\n",
              "      <td>0</td>\n",
              "      <td>192261.83</td>\n",
              "    </tr>\n",
              "    <tr>\n",
              "      <th>1</th>\n",
              "      <td>1</td>\n",
              "      <td>191792.06</td>\n",
              "    </tr>\n",
              "    <tr>\n",
              "      <th>2</th>\n",
              "      <td>2</td>\n",
              "      <td>191050.39</td>\n",
              "    </tr>\n",
              "  </tbody>\n",
              "</table>\n",
              "</div>\n",
              "      <button class=\"colab-df-convert\" onclick=\"convertToInteractive('df-e4893d0a-5ef9-4e5e-9c11-fdb4cbbe12a4')\"\n",
              "              title=\"Convert this dataframe to an interactive table.\"\n",
              "              style=\"display:none;\">\n",
              "        \n",
              "  <svg xmlns=\"http://www.w3.org/2000/svg\" height=\"24px\"viewBox=\"0 0 24 24\"\n",
              "       width=\"24px\">\n",
              "    <path d=\"M0 0h24v24H0V0z\" fill=\"none\"/>\n",
              "    <path d=\"M18.56 5.44l.94 2.06.94-2.06 2.06-.94-2.06-.94-.94-2.06-.94 2.06-2.06.94zm-11 1L8.5 8.5l.94-2.06 2.06-.94-2.06-.94L8.5 2.5l-.94 2.06-2.06.94zm10 10l.94 2.06.94-2.06 2.06-.94-2.06-.94-.94-2.06-.94 2.06-2.06.94z\"/><path d=\"M17.41 7.96l-1.37-1.37c-.4-.4-.92-.59-1.43-.59-.52 0-1.04.2-1.43.59L10.3 9.45l-7.72 7.72c-.78.78-.78 2.05 0 2.83L4 21.41c.39.39.9.59 1.41.59.51 0 1.02-.2 1.41-.59l7.78-7.78 2.81-2.81c.8-.78.8-2.07 0-2.86zM5.41 20L4 18.59l7.72-7.72 1.47 1.35L5.41 20z\"/>\n",
              "  </svg>\n",
              "      </button>\n",
              "      \n",
              "  <style>\n",
              "    .colab-df-container {\n",
              "      display:flex;\n",
              "      flex-wrap:wrap;\n",
              "      gap: 12px;\n",
              "    }\n",
              "\n",
              "    .colab-df-convert {\n",
              "      background-color: #E8F0FE;\n",
              "      border: none;\n",
              "      border-radius: 50%;\n",
              "      cursor: pointer;\n",
              "      display: none;\n",
              "      fill: #1967D2;\n",
              "      height: 32px;\n",
              "      padding: 0 0 0 0;\n",
              "      width: 32px;\n",
              "    }\n",
              "\n",
              "    .colab-df-convert:hover {\n",
              "      background-color: #E2EBFA;\n",
              "      box-shadow: 0px 1px 2px rgba(60, 64, 67, 0.3), 0px 1px 3px 1px rgba(60, 64, 67, 0.15);\n",
              "      fill: #174EA6;\n",
              "    }\n",
              "\n",
              "    [theme=dark] .colab-df-convert {\n",
              "      background-color: #3B4455;\n",
              "      fill: #D2E3FC;\n",
              "    }\n",
              "\n",
              "    [theme=dark] .colab-df-convert:hover {\n",
              "      background-color: #434B5C;\n",
              "      box-shadow: 0px 1px 3px 1px rgba(0, 0, 0, 0.15);\n",
              "      filter: drop-shadow(0px 1px 2px rgba(0, 0, 0, 0.3));\n",
              "      fill: #FFFFFF;\n",
              "    }\n",
              "  </style>\n",
              "\n",
              "      <script>\n",
              "        const buttonEl =\n",
              "          document.querySelector('#df-e4893d0a-5ef9-4e5e-9c11-fdb4cbbe12a4 button.colab-df-convert');\n",
              "        buttonEl.style.display =\n",
              "          google.colab.kernel.accessAllowed ? 'block' : 'none';\n",
              "\n",
              "        async function convertToInteractive(key) {\n",
              "          const element = document.querySelector('#df-e4893d0a-5ef9-4e5e-9c11-fdb4cbbe12a4');\n",
              "          const dataTable =\n",
              "            await google.colab.kernel.invokeFunction('convertToInteractive',\n",
              "                                                     [key], {});\n",
              "          if (!dataTable) return;\n",
              "\n",
              "          const docLinkHtml = 'Like what you see? Visit the ' +\n",
              "            '<a target=\"_blank\" href=https://colab.research.google.com/notebooks/data_table.ipynb>data table notebook</a>'\n",
              "            + ' to learn more about interactive tables.';\n",
              "          element.innerHTML = '';\n",
              "          dataTable['output_type'] = 'display_data';\n",
              "          await google.colab.output.renderOutput(dataTable, element);\n",
              "          const docLink = document.createElement('div');\n",
              "          docLink.innerHTML = docLinkHtml;\n",
              "          element.appendChild(docLink);\n",
              "        }\n",
              "      </script>\n",
              "    </div>\n",
              "  </div>\n",
              "  "
            ]
          },
          "metadata": {},
          "execution_count": 21
        }
      ],
      "source": [
        "Dependent = dataset['Profit']\n",
        "Dependent.head(3).reset_index()"
      ]
    },
    {
      "cell_type": "code",
      "execution_count": null,
      "metadata": {
        "colab": {
          "base_uri": "https://localhost:8080/"
        },
        "id": "rj6WS_Sr-vG1",
        "outputId": "a96750e4-b1c2-4c81-a36c-4a6a594ed730"
      },
      "outputs": [
        {
          "output_type": "execute_result",
          "data": {
            "text/plain": [
              "Index(['R&D Spend', 'Administration', 'Marketing Spend', 'State_California',\n",
              "       'State_Florida', 'State_New York'],\n",
              "      dtype='object')"
            ]
          },
          "metadata": {},
          "execution_count": 22
        }
      ],
      "source": [
        "Independent.columns"
      ]
    },
    {
      "cell_type": "markdown",
      "source": [
        "### **Creating \"DISPLOT' to check the distribution of Data points**"
      ],
      "metadata": {
        "id": "_eQWnZgxny7W"
      }
    },
    {
      "cell_type": "code",
      "source": [
        "sns.distplot((dataset['Administration']),color=\"orange\")\n"
      ],
      "metadata": {
        "colab": {
          "base_uri": "https://localhost:8080/",
          "height": 362
        },
        "id": "Q-r7WSNcrT5z",
        "outputId": "c04a371e-092b-4b56-f5e2-ffc47d92588d"
      },
      "execution_count": null,
      "outputs": [
        {
          "output_type": "stream",
          "name": "stderr",
          "text": [
            "/usr/local/lib/python3.8/dist-packages/seaborn/distributions.py:2619: FutureWarning: `distplot` is a deprecated function and will be removed in a future version. Please adapt your code to use either `displot` (a figure-level function with similar flexibility) or `histplot` (an axes-level function for histograms).\n",
            "  warnings.warn(msg, FutureWarning)\n"
          ]
        },
        {
          "output_type": "execute_result",
          "data": {
            "text/plain": [
              "<matplotlib.axes._subplots.AxesSubplot at 0x7f5e41049760>"
            ]
          },
          "metadata": {},
          "execution_count": 23
        },
        {
          "output_type": "display_data",
          "data": {
            "text/plain": [
              "<Figure size 432x288 with 1 Axes>"
            ],
            "image/png": "[encoded data removed]"
          },
          "metadata": {
            "needs_background": "light"
          }
        }
      ]
    },
    {
      "cell_type": "code",
      "source": [
        "for col in Independent.columns[:3]:\n",
        "  sns.distplot((dataset[col]),color=\"b\")\n",
        "  # sns.distplot(np.log(dataset['price']),color=\"blue\")\n",
        "  plt.show()"
      ],
      "metadata": {
        "colab": {
          "base_uri": "https://localhost:8080/",
          "height": 960
        },
        "id": "b5Fz10tMmg-s",
        "outputId": "9c8d3caa-7f77-4a36-8aa9-ec40c4cc0f9a"
      },
      "execution_count": null,
      "outputs": [
        {
          "output_type": "stream",
          "name": "stderr",
          "text": [
            "/usr/local/lib/python3.8/dist-packages/seaborn/distributions.py:2619: FutureWarning: `distplot` is a deprecated function and will be removed in a future version. Please adapt your code to use either `displot` (a figure-level function with similar flexibility) or `histplot` (an axes-level function for histograms).\n",
            "  warnings.warn(msg, FutureWarning)\n"
          ]
        },
        {
          "output_type": "display_data",
          "data": {
            "text/plain": [
              "<Figure size 432x288 with 1 Axes>"
            ],
            "image/png": "[encoded data removed]"
          },
          "metadata": {
            "needs_background": "light"
          }
        },
        {
          "output_type": "stream",
          "name": "stderr",
          "text": [
            "/usr/local/lib/python3.8/dist-packages/seaborn/distributions.py:2619: FutureWarning: `distplot` is a deprecated function and will be removed in a future version. Please adapt your code to use either `displot` (a figure-level function with similar flexibility) or `histplot` (an axes-level function for histograms).\n",
            "  warnings.warn(msg, FutureWarning)\n"
          ]
        },
        {
          "output_type": "display_data",
          "data": {
            "text/plain": [
              "<Figure size 432x288 with 1 Axes>"
            ],
            "image/png": "[encoded data removed]"
          },
          "metadata": {
            "needs_background": "light"
          }
        },
        {
          "output_type": "stream",
          "name": "stderr",
          "text": [
            "/usr/local/lib/python3.8/dist-packages/seaborn/distributions.py:2619: FutureWarning: `distplot` is a deprecated function and will be removed in a future version. Please adapt your code to use either `displot` (a figure-level function with similar flexibility) or `histplot` (an axes-level function for histograms).\n",
            "  warnings.warn(msg, FutureWarning)\n"
          ]
        },
        {
          "output_type": "display_data",
          "data": {
            "text/plain": [
              "<Figure size 432x288 with 1 Axes>"
            ],
            "image/png": "[encoded data removed]"
          },
          "metadata": {
            "needs_background": "light"
          }
        }
      ]
    },
    {
      "cell_type": "markdown",
      "source": [
        "### **Most of the data is not extremely skewed so we do not have to use log transformation**"
      ],
      "metadata": {
        "id": "uOPxCCiMoopv"
      }
    },
    {
      "cell_type": "markdown",
      "source": [
        "# **Linear Regression implementation**"
      ],
      "metadata": {
        "id": "gw28jqaPaxqM"
      }
    },
    {
      "cell_type": "markdown",
      "metadata": {
        "id": "HUnS3Yfhoqnq"
      },
      "source": [
        "## **TRAIN and TEST Splitting**"
      ]
    },
    {
      "cell_type": "code",
      "execution_count": null,
      "metadata": {
        "id": "-zuIXT8kWhuw"
      },
      "outputs": [],
      "source": [
        "# Splitting the dataset into the Training set and Test set\n",
        "\n",
        "X_train, X_test, y_train, y_test = train_test_split(Independent, Dependent, test_size = 0.2, random_state = 0)"
      ]
    },
    {
      "cell_type": "code",
      "execution_count": null,
      "metadata": {
        "colab": {
          "base_uri": "https://localhost:8080/",
          "height": 363
        },
        "id": "26qmaXaVLDQ6",
        "outputId": "32355297-ba14-48b4-9dfe-39d9a45e02b0"
      },
      "outputs": [
        {
          "output_type": "execute_result",
          "data": {
            "text/plain": [
              "    R&D Spend  Administration  Marketing Spend  State_California  \\\n",
              "33   55493.95       103057.49        214634.81                 0   \n",
              "35   46014.02        85047.44        205517.64                 0   \n",
              "26   75328.87       144135.98        134050.07                 0   \n",
              "34   46426.07       157693.92        210797.67                 1   \n",
              "18   91749.16       114175.79        294919.57                 0   \n",
              "7   130298.13       145530.06        323876.68                 0   \n",
              "14  119943.24       156547.42        256512.92                 0   \n",
              "45    1000.23       124153.04          1903.93                 0   \n",
              "48     542.05        51743.15             0.00                 0   \n",
              "29   65605.48       153032.06        107138.38                 0   \n",
              "\n",
              "    State_Florida  State_New York  \n",
              "33              1               0  \n",
              "35              0               1  \n",
              "26              1               0  \n",
              "34              0               0  \n",
              "18              1               0  \n",
              "7               1               0  \n",
              "14              1               0  \n",
              "45              0               1  \n",
              "48              0               1  \n",
              "29              0               1  "
            ],
            "text/html": [
              "\n",
              "  <div id=\"df-0b6422ee-a68d-4576-b30e-0bccff5396ab\">\n",
              "    <div class=\"colab-df-container\">\n",
              "      <div>\n",
              "<style scoped>\n",
              "    .dataframe tbody tr th:only-of-type {\n",
              "        vertical-align: middle;\n",
              "    }\n",
              "\n",
              "    .dataframe tbody tr th {\n",
              "        vertical-align: top;\n",
              "    }\n",
              "\n",
              "    .dataframe thead th {\n",
              "        text-align: right;\n",
              "    }\n",
              "</style>\n",
              "<table border=\"1\" class=\"dataframe\">\n",
              "  <thead>\n",
              "    <tr style=\"text-align: right;\">\n",
              "      <th></th>\n",
              "      <th>R&amp;D Spend</th>\n",
              "      <th>Administration</th>\n",
              "      <th>Marketing Spend</th>\n",
              "      <th>State_California</th>\n",
              "      <th>State_Florida</th>\n",
              "      <th>State_New York</th>\n",
              "    </tr>\n",
              "  </thead>\n",
              "  <tbody>\n",
              "    <tr>\n",
              "      <th>33</th>\n",
              "      <td>55493.95</td>\n",
              "      <td>103057.49</td>\n",
              "      <td>214634.81</td>\n",
              "      <td>0</td>\n",
              "      <td>1</td>\n",
              "      <td>0</td>\n",
              "    </tr>\n",
              "    <tr>\n",
              "      <th>35</th>\n",
              "      <td>46014.02</td>\n",
              "      <td>85047.44</td>\n",
              "      <td>205517.64</td>\n",
              "      <td>0</td>\n",
              "      <td>0</td>\n",
              "      <td>1</td>\n",
              "    </tr>\n",
              "    <tr>\n",
              "      <th>26</th>\n",
              "      <td>75328.87</td>\n",
              "      <td>144135.98</td>\n",
              "      <td>134050.07</td>\n",
              "      <td>0</td>\n",
              "      <td>1</td>\n",
              "      <td>0</td>\n",
              "    </tr>\n",
              "    <tr>\n",
              "      <th>34</th>\n",
              "      <td>46426.07</td>\n",
              "      <td>157693.92</td>\n",
              "      <td>210797.67</td>\n",
              "      <td>1</td>\n",
              "      <td>0</td>\n",
              "      <td>0</td>\n",
              "    </tr>\n",
              "    <tr>\n",
              "      <th>18</th>\n",
              "      <td>91749.16</td>\n",
              "      <td>114175.79</td>\n",
              "      <td>294919.57</td>\n",
              "      <td>0</td>\n",
              "      <td>1</td>\n",
              "      <td>0</td>\n",
              "    </tr>\n",
              "    <tr>\n",
              "      <th>7</th>\n",
              "      <td>130298.13</td>\n",
              "      <td>145530.06</td>\n",
              "      <td>323876.68</td>\n",
              "      <td>0</td>\n",
              "      <td>1</td>\n",
              "      <td>0</td>\n",
              "    </tr>\n",
              "    <tr>\n",
              "      <th>14</th>\n",
              "      <td>119943.24</td>\n",
              "      <td>156547.42</td>\n",
              "      <td>256512.92</td>\n",
              "      <td>0</td>\n",
              "      <td>1</td>\n",
              "      <td>0</td>\n",
              "    </tr>\n",
              "    <tr>\n",
              "      <th>45</th>\n",
              "      <td>1000.23</td>\n",
              "      <td>124153.04</td>\n",
              "      <td>1903.93</td>\n",
              "      <td>0</td>\n",
              "      <td>0</td>\n",
              "      <td>1</td>\n",
              "    </tr>\n",
              "    <tr>\n",
              "      <th>48</th>\n",
              "      <td>542.05</td>\n",
              "      <td>51743.15</td>\n",
              "      <td>0.00</td>\n",
              "      <td>0</td>\n",
              "      <td>0</td>\n",
              "      <td>1</td>\n",
              "    </tr>\n",
              "    <tr>\n",
              "      <th>29</th>\n",
              "      <td>65605.48</td>\n",
              "      <td>153032.06</td>\n",
              "      <td>107138.38</td>\n",
              "      <td>0</td>\n",
              "      <td>0</td>\n",
              "      <td>1</td>\n",
              "    </tr>\n",
              "  </tbody>\n",
              "</table>\n",
              "</div>\n",
              "      <button class=\"colab-df-convert\" onclick=\"convertToInteractive('df-0b6422ee-a68d-4576-b30e-0bccff5396ab')\"\n",
              "              title=\"Convert this dataframe to an interactive table.\"\n",
              "              style=\"display:none;\">\n",
              "        \n",
              "  <svg xmlns=\"http://www.w3.org/2000/svg\" height=\"24px\"viewBox=\"0 0 24 24\"\n",
              "       width=\"24px\">\n",
              "    <path d=\"M0 0h24v24H0V0z\" fill=\"none\"/>\n",
              "    <path d=\"M18.56 5.44l.94 2.06.94-2.06 2.06-.94-2.06-.94-.94-2.06-.94 2.06-2.06.94zm-11 1L8.5 8.5l.94-2.06 2.06-.94-2.06-.94L8.5 2.5l-.94 2.06-2.06.94zm10 10l.94 2.06.94-2.06 2.06-.94-2.06-.94-.94-2.06-.94 2.06-2.06.94z\"/><path d=\"M17.41 7.96l-1.37-1.37c-.4-.4-.92-.59-1.43-.59-.52 0-1.04.2-1.43.59L10.3 9.45l-7.72 7.72c-.78.78-.78 2.05 0 2.83L4 21.41c.39.39.9.59 1.41.59.51 0 1.02-.2 1.41-.59l7.78-7.78 2.81-2.81c.8-.78.8-2.07 0-2.86zM5.41 20L4 18.59l7.72-7.72 1.47 1.35L5.41 20z\"/>\n",
              "  </svg>\n",
              "      </button>\n",
              "      \n",
              "  <style>\n",
              "    .colab-df-container {\n",
              "      display:flex;\n",
              "      flex-wrap:wrap;\n",
              "      gap: 12px;\n",
              "    }\n",
              "\n",
              "    .colab-df-convert {\n",
              "      background-color: #E8F0FE;\n",
              "      border: none;\n",
              "      border-radius: 50%;\n",
              "      cursor: pointer;\n",
              "      display: none;\n",
              "      fill: #1967D2;\n",
              "      height: 32px;\n",
              "      padding: 0 0 0 0;\n",
              "      width: 32px;\n",
              "    }\n",
              "\n",
              "    .colab-df-convert:hover {\n",
              "      background-color: #E2EBFA;\n",
              "      box-shadow: 0px 1px 2px rgba(60, 64, 67, 0.3), 0px 1px 3px 1px rgba(60, 64, 67, 0.15);\n",
              "      fill: #174EA6;\n",
              "    }\n",
              "\n",
              "    [theme=dark] .colab-df-convert {\n",
              "      background-color: #3B4455;\n",
              "      fill: #D2E3FC;\n",
              "    }\n",
              "\n",
              "    [theme=dark] .colab-df-convert:hover {\n",
              "      background-color: #434B5C;\n",
              "      box-shadow: 0px 1px 3px 1px rgba(0, 0, 0, 0.15);\n",
              "      filter: drop-shadow(0px 1px 2px rgba(0, 0, 0, 0.3));\n",
              "      fill: #FFFFFF;\n",
              "    }\n",
              "  </style>\n",
              "\n",
              "      <script>\n",
              "        const buttonEl =\n",
              "          document.querySelector('#df-0b6422ee-a68d-4576-b30e-0bccff5396ab button.colab-df-convert');\n",
              "        buttonEl.style.display =\n",
              "          google.colab.kernel.accessAllowed ? 'block' : 'none';\n",
              "\n",
              "        async function convertToInteractive(key) {\n",
              "          const element = document.querySelector('#df-0b6422ee-a68d-4576-b30e-0bccff5396ab');\n",
              "          const dataTable =\n",
              "            await google.colab.kernel.invokeFunction('convertToInteractive',\n",
              "                                                     [key], {});\n",
              "          if (!dataTable) return;\n",
              "\n",
              "          const docLinkHtml = 'Like what you see? Visit the ' +\n",
              "            '<a target=\"_blank\" href=https://colab.research.google.com/notebooks/data_table.ipynb>data table notebook</a>'\n",
              "            + ' to learn more about interactive tables.';\n",
              "          element.innerHTML = '';\n",
              "          dataTable['output_type'] = 'display_data';\n",
              "          await google.colab.output.renderOutput(dataTable, element);\n",
              "          const docLink = document.createElement('div');\n",
              "          docLink.innerHTML = docLinkHtml;\n",
              "          element.appendChild(docLink);\n",
              "        }\n",
              "      </script>\n",
              "    </div>\n",
              "  </div>\n",
              "  "
            ]
          },
          "metadata": {},
          "execution_count": 26
        }
      ],
      "source": [
        "X_train[0:10]"
      ]
    },
    {
      "cell_type": "markdown",
      "metadata": {
        "id": "OZeoo2wSoy8p"
      },
      "source": [
        "## **Scaling The Data using MinMaxScalar**"
      ]
    },
    {
      "cell_type": "code",
      "execution_count": null,
      "metadata": {
        "id": "ItSua8fKjCxN"
      },
      "outputs": [],
      "source": [
        "# Transforming data\n",
        "scaler = MinMaxScaler()\n",
        "X_train = scaler.fit_transform(X_train)\n",
        "X_test = scaler.transform(X_test)"
      ]
    },
    {
      "cell_type": "code",
      "execution_count": null,
      "metadata": {
        "colab": {
          "base_uri": "https://localhost:8080/"
        },
        "id": "UAZ0eFcOjCxN",
        "outputId": "3bbc27b7-a7a9-41f3-9aac-cda82e540234"
      },
      "outputs": [
        {
          "output_type": "execute_result",
          "data": {
            "text/plain": [
              "array([[0.33561668, 0.48655174, 0.45494286, 0.        , 1.        ,\n",
              "        0.        ],\n",
              "       [0.2782839 , 0.3173015 , 0.43561799, 0.        , 0.        ,\n",
              "        1.        ],\n",
              "       [0.45557444, 0.87258866, 0.28413435, 0.        , 1.        ,\n",
              "        0.        ],\n",
              "       [0.2807759 , 1.        , 0.44680961, 1.        , 0.        ,\n",
              "        0.        ],\n",
              "       [0.55488118, 0.59103645, 0.62511553, 0.        , 1.        ,\n",
              "        0.        ],\n",
              "       [0.7880179 , 0.88568959, 0.68649342, 0.        , 1.        ,\n",
              "        0.        ],\n",
              "       [0.72539353, 0.98922572, 0.54370828, 0.        , 1.        ,\n",
              "        0.        ],\n",
              "       [0.0060492 , 0.6847981 , 0.0040356 , 0.        , 0.        ,\n",
              "        1.        ],\n",
              "       [0.00327821, 0.00432296, 0.        , 0.        , 0.        ,\n",
              "        1.        ],\n",
              "       [0.39676926, 0.95618996, 0.22709197, 0.        , 0.        ,\n",
              "        1.        ]])"
            ]
          },
          "metadata": {},
          "execution_count": 28
        }
      ],
      "source": [
        "X_train[0:10]"
      ]
    },
    {
      "cell_type": "markdown",
      "source": [
        "We can see the entire data is not in between 0 and 1"
      ],
      "metadata": {
        "id": "27vExnTch9xm"
      }
    },
    {
      "cell_type": "markdown",
      "metadata": {
        "id": "KwCWLan3pB-i"
      },
      "source": [
        "## **Regression Line Fitting**"
      ]
    },
    {
      "cell_type": "code",
      "execution_count": null,
      "metadata": {
        "colab": {
          "base_uri": "https://localhost:8080/"
        },
        "id": "5KalyOkljCxN",
        "outputId": "7abf5093-a221-4ace-ea91-312292348b40"
      },
      "outputs": [
        {
          "output_type": "execute_result",
          "data": {
            "text/plain": [
              "LinearRegression()"
            ]
          },
          "metadata": {},
          "execution_count": 29
        }
      ],
      "source": [
        "# Fitting Multiple Linear Regression to the Training set\n",
        "regressor = LinearRegression()\n",
        "regressor.fit(X_train, y_train)"
      ]
    },
    {
      "cell_type": "code",
      "execution_count": null,
      "metadata": {
        "colab": {
          "base_uri": "https://localhost:8080/"
        },
        "id": "BucQpT7V_rSS",
        "outputId": "b8f5e26d-7931-4822-93bd-14d5d4baa8a6"
      },
      "outputs": [
        {
          "output_type": "execute_result",
          "data": {
            "text/plain": [
              "44153.95466784855"
            ]
          },
          "metadata": {},
          "execution_count": 30
        }
      ],
      "source": [
        "# Linear Regression Intercept\n",
        "regressor.intercept_"
      ]
    },
    {
      "cell_type": "code",
      "execution_count": null,
      "metadata": {
        "colab": {
          "base_uri": "https://localhost:8080/"
        },
        "id": "2ukL9Lq-_v0i",
        "outputId": "8235f31a-5e46-4ff5-826c-dd6d7fd88bf6"
      },
      "outputs": [
        {
          "output_type": "execute_result",
          "data": {
            "text/plain": [
              "array([ 1.27892182e+05,  3.49927567e+03,  1.72720281e+04,  8.66383692e+01,\n",
              "       -8.72645791e+02,  7.86007422e+02])"
            ]
          },
          "metadata": {},
          "execution_count": 31
        }
      ],
      "source": [
        "regressor.coef_"
      ]
    },
    {
      "cell_type": "code",
      "execution_count": null,
      "metadata": {
        "colab": {
          "base_uri": "https://localhost:8080/",
          "height": 112
        },
        "id": "N8ivmeTLhLYU",
        "outputId": "45bbd0a9-5689-4884-ceae-a847cbffcdb3"
      },
      "outputs": [
        {
          "output_type": "execute_result",
          "data": {
            "text/plain": [
              "   R&D Spend  Administration  Marketing Spend  State_California  \\\n",
              "0   165349.2       136897.80        471784.10                 0   \n",
              "1   162597.7       151377.59        443898.53                 1   \n",
              "\n",
              "   State_Florida  State_New York  \n",
              "0              0               1  \n",
              "1              0               0  "
            ],
            "text/html": [
              "\n",
              "  <div id=\"df-f6a26222-f876-4337-b799-fb86c2440bb0\">\n",
              "    <div class=\"colab-df-container\">\n",
              "      <div>\n",
              "<style scoped>\n",
              "    .dataframe tbody tr th:only-of-type {\n",
              "        vertical-align: middle;\n",
              "    }\n",
              "\n",
              "    .dataframe tbody tr th {\n",
              "        vertical-align: top;\n",
              "    }\n",
              "\n",
              "    .dataframe thead th {\n",
              "        text-align: right;\n",
              "    }\n",
              "</style>\n",
              "<table border=\"1\" class=\"dataframe\">\n",
              "  <thead>\n",
              "    <tr style=\"text-align: right;\">\n",
              "      <th></th>\n",
              "      <th>R&amp;D Spend</th>\n",
              "      <th>Administration</th>\n",
              "      <th>Marketing Spend</th>\n",
              "      <th>State_California</th>\n",
              "      <th>State_Florida</th>\n",
              "      <th>State_New York</th>\n",
              "    </tr>\n",
              "  </thead>\n",
              "  <tbody>\n",
              "    <tr>\n",
              "      <th>0</th>\n",
              "      <td>165349.2</td>\n",
              "      <td>136897.80</td>\n",
              "      <td>471784.10</td>\n",
              "      <td>0</td>\n",
              "      <td>0</td>\n",
              "      <td>1</td>\n",
              "    </tr>\n",
              "    <tr>\n",
              "      <th>1</th>\n",
              "      <td>162597.7</td>\n",
              "      <td>151377.59</td>\n",
              "      <td>443898.53</td>\n",
              "      <td>1</td>\n",
              "      <td>0</td>\n",
              "      <td>0</td>\n",
              "    </tr>\n",
              "  </tbody>\n",
              "</table>\n",
              "</div>\n",
              "      <button class=\"colab-df-convert\" onclick=\"convertToInteractive('df-f6a26222-f876-4337-b799-fb86c2440bb0')\"\n",
              "              title=\"Convert this dataframe to an interactive table.\"\n",
              "              style=\"display:none;\">\n",
              "        \n",
              "  <svg xmlns=\"http://www.w3.org/2000/svg\" height=\"24px\"viewBox=\"0 0 24 24\"\n",
              "       width=\"24px\">\n",
              "    <path d=\"M0 0h24v24H0V0z\" fill=\"none\"/>\n",
              "    <path d=\"M18.56 5.44l.94 2.06.94-2.06 2.06-.94-2.06-.94-.94-2.06-.94 2.06-2.06.94zm-11 1L8.5 8.5l.94-2.06 2.06-.94-2.06-.94L8.5 2.5l-.94 2.06-2.06.94zm10 10l.94 2.06.94-2.06 2.06-.94-2.06-.94-.94-2.06-.94 2.06-2.06.94z\"/><path d=\"M17.41 7.96l-1.37-1.37c-.4-.4-.92-.59-1.43-.59-.52 0-1.04.2-1.43.59L10.3 9.45l-7.72 7.72c-.78.78-.78 2.05 0 2.83L4 21.41c.39.39.9.59 1.41.59.51 0 1.02-.2 1.41-.59l7.78-7.78 2.81-2.81c.8-.78.8-2.07 0-2.86zM5.41 20L4 18.59l7.72-7.72 1.47 1.35L5.41 20z\"/>\n",
              "  </svg>\n",
              "      </button>\n",
              "      \n",
              "  <style>\n",
              "    .colab-df-container {\n",
              "      display:flex;\n",
              "      flex-wrap:wrap;\n",
              "      gap: 12px;\n",
              "    }\n",
              "\n",
              "    .colab-df-convert {\n",
              "      background-color: #E8F0FE;\n",
              "      border: none;\n",
              "      border-radius: 50%;\n",
              "      cursor: pointer;\n",
              "      display: none;\n",
              "      fill: #1967D2;\n",
              "      height: 32px;\n",
              "      padding: 0 0 0 0;\n",
              "      width: 32px;\n",
              "    }\n",
              "\n",
              "    .colab-df-convert:hover {\n",
              "      background-color: #E2EBFA;\n",
              "      box-shadow: 0px 1px 2px rgba(60, 64, 67, 0.3), 0px 1px 3px 1px rgba(60, 64, 67, 0.15);\n",
              "      fill: #174EA6;\n",
              "    }\n",
              "\n",
              "    [theme=dark] .colab-df-convert {\n",
              "      background-color: #3B4455;\n",
              "      fill: #D2E3FC;\n",
              "    }\n",
              "\n",
              "    [theme=dark] .colab-df-convert:hover {\n",
              "      background-color: #434B5C;\n",
              "      box-shadow: 0px 1px 3px 1px rgba(0, 0, 0, 0.15);\n",
              "      filter: drop-shadow(0px 1px 2px rgba(0, 0, 0, 0.3));\n",
              "      fill: #FFFFFF;\n",
              "    }\n",
              "  </style>\n",
              "\n",
              "      <script>\n",
              "        const buttonEl =\n",
              "          document.querySelector('#df-f6a26222-f876-4337-b799-fb86c2440bb0 button.colab-df-convert');\n",
              "        buttonEl.style.display =\n",
              "          google.colab.kernel.accessAllowed ? 'block' : 'none';\n",
              "\n",
              "        async function convertToInteractive(key) {\n",
              "          const element = document.querySelector('#df-f6a26222-f876-4337-b799-fb86c2440bb0');\n",
              "          const dataTable =\n",
              "            await google.colab.kernel.invokeFunction('convertToInteractive',\n",
              "                                                     [key], {});\n",
              "          if (!dataTable) return;\n",
              "\n",
              "          const docLinkHtml = 'Like what you see? Visit the ' +\n",
              "            '<a target=\"_blank\" href=https://colab.research.google.com/notebooks/data_table.ipynb>data table notebook</a>'\n",
              "            + ' to learn more about interactive tables.';\n",
              "          element.innerHTML = '';\n",
              "          dataTable['output_type'] = 'display_data';\n",
              "          await google.colab.output.renderOutput(dataTable, element);\n",
              "          const docLink = document.createElement('div');\n",
              "          docLink.innerHTML = docLinkHtml;\n",
              "          element.appendChild(docLink);\n",
              "        }\n",
              "      </script>\n",
              "    </div>\n",
              "  </div>\n",
              "  "
            ]
          },
          "metadata": {},
          "execution_count": 32
        }
      ],
      "source": [
        "Independent.head(2)"
      ]
    },
    {
      "cell_type": "code",
      "execution_count": null,
      "metadata": {
        "colab": {
          "base_uri": "https://localhost:8080/"
        },
        "id": "XLhuw42mhdgb",
        "outputId": "de69deb5-f4cd-4c7d-beb5-b88b4e900d11"
      },
      "outputs": [
        {
          "output_type": "execute_result",
          "data": {
            "text/plain": [
              "Index(['R&D Spend', 'Administration', 'Marketing Spend', 'State_California',\n",
              "       'State_Florida', 'State_New York'],\n",
              "      dtype='object')"
            ]
          },
          "metadata": {},
          "execution_count": 33
        }
      ],
      "source": [
        "Independent.columns"
      ]
    },
    {
      "cell_type": "markdown",
      "source": [
        "**Predicting the Test set results**\n"
      ],
      "metadata": {
        "id": "0E4Tj-H7sgd-"
      }
    },
    {
      "cell_type": "code",
      "execution_count": null,
      "metadata": {
        "colab": {
          "base_uri": "https://localhost:8080/"
        },
        "id": "hlsE-TkojCxO",
        "outputId": "7a68832a-dd36-46bb-e14e-26cd1dee1bcb"
      },
      "outputs": [
        {
          "output_type": "execute_result",
          "data": {
            "text/plain": [
              "array([103015.20159796, 132582.27760816, 132447.73845174,  71976.09851258,\n",
              "       178537.48221055, 116161.24230165,  67851.69209676,  98791.73374687,\n",
              "       113969.43533012, 167921.0656955 ])"
            ]
          },
          "metadata": {},
          "execution_count": 34
        }
      ],
      "source": [
        "# Predicting the Test set results\n",
        "y_pred_test = regressor.predict(X_test)\n",
        "y_pred_test"
      ]
    },
    {
      "cell_type": "markdown",
      "source": [
        "**Predicting the Train data**"
      ],
      "metadata": {
        "id": "-Wn7nCndtHsE"
      }
    },
    {
      "cell_type": "code",
      "source": [
        "# Predicting the Test set results\n",
        "y_pred_train = regressor.predict(X_train)\n",
        "y_pred_train"
      ],
      "metadata": {
        "colab": {
          "base_uri": "https://localhost:8080/"
        },
        "id": "72N_dhoctPWt",
        "outputId": "43f80baa-512c-4a79-9e2b-fdc397eb4c69"
      },
      "execution_count": null,
      "outputs": [
        {
          "output_type": "execute_result",
          "data": {
            "text/plain": [
              "array([ 95764.42320496,  89164.62849777, 109506.72329085,  91366.2188941 ,\n",
              "       127111.48666646, 159019.04337114, 148905.9881254 ,  48179.60744028,\n",
              "        45374.34722508, 102951.9596798 , 145449.63178399,  96684.71387299,\n",
              "        97535.3576194 , 116571.15139254,  69421.13311312, 116212.62095133,\n",
              "        60736.53267612, 152787.95464277, 127413.0337311 , 102210.16391827,\n",
              "       161822.7226407 , 131583.61511491,  75019.09161337,  48054.91969394,\n",
              "       189547.28196893, 127528.92248422,  85540.50570954, 111255.8251405 ,\n",
              "       156191.10124356, 108464.25100331,  75306.81185049, 119915.38726755,\n",
              "       115144.58914955, 152688.90677959,  81513.47163492,  57298.28613018,\n",
              "       172852.28336637, 192919.57537462,  47007.62737751,  65835.99435878])"
            ]
          },
          "metadata": {},
          "execution_count": 35
        }
      ]
    },
    {
      "cell_type": "markdown",
      "metadata": {
        "id": "go8ucjKcjbw7"
      },
      "source": [
        "## **Comparing the Predicted and Actual Data**"
      ]
    },
    {
      "cell_type": "code",
      "execution_count": null,
      "metadata": {
        "colab": {
          "base_uri": "https://localhost:8080/"
        },
        "id": "czdsv0trW6su",
        "outputId": "cd975ad3-c98a-48b7-aa67-a09aa80fe4c7"
      },
      "outputs": [
        {
          "output_type": "stream",
          "name": "stdout",
          "text": [
            "33     96778.92\n",
            "35     96479.51\n",
            "26    105733.54\n",
            "34     96712.80\n",
            "18    124266.90\n",
            "7     155752.60\n",
            "14    132602.65\n",
            "45     64926.08\n",
            "48     35673.41\n",
            "29    101004.64\n",
            "15    129917.04\n",
            "30     99937.59\n",
            "32     97427.84\n",
            "16    126992.93\n",
            "42     71498.49\n",
            "20    118474.03\n",
            "43     69758.98\n",
            "8     152211.77\n",
            "13    134307.35\n",
            "25    107404.34\n",
            "5     156991.12\n",
            "17    125370.37\n",
            "40     78239.91\n",
            "49     14681.40\n",
            "1     191792.06\n",
            "12    141585.52\n",
            "37     89949.14\n",
            "24    108552.04\n",
            "6     156122.51\n",
            "23    108733.99\n",
            "36     90708.19\n",
            "21    111313.02\n",
            "19    122776.86\n",
            "9     149759.96\n",
            "39     81005.76\n",
            "46     49490.75\n",
            "3     182901.99\n",
            "0     192261.83\n",
            "47     42559.73\n",
            "44     65200.33\n",
            "Name: Profit, dtype: float64\n"
          ]
        }
      ],
      "source": [
        "# Actual Train Data\n",
        "print(y_train)"
      ]
    },
    {
      "cell_type": "code",
      "execution_count": null,
      "metadata": {
        "colab": {
          "base_uri": "https://localhost:8080/"
        },
        "id": "dDB6XNNFXVAC",
        "outputId": "77dd6f18-6267-4ea3-805e-8b2a8c418a60"
      },
      "outputs": [
        {
          "output_type": "execute_result",
          "data": {
            "text/plain": [
              "array([ 95764.42320496,  89164.62849777, 109506.72329085,  91366.2188941 ,\n",
              "       127111.48666646, 159019.04337114, 148905.9881254 ,  48179.60744028,\n",
              "        45374.34722508, 102951.9596798 , 145449.63178399,  96684.71387299,\n",
              "        97535.3576194 , 116571.15139254,  69421.13311312, 116212.62095133,\n",
              "        60736.53267612, 152787.95464277, 127413.0337311 , 102210.16391827,\n",
              "       161822.7226407 , 131583.61511491,  75019.09161337,  48054.91969394,\n",
              "       189547.28196893, 127528.92248422,  85540.50570954, 111255.8251405 ,\n",
              "       156191.10124356, 108464.25100331,  75306.81185049, 119915.38726755,\n",
              "       115144.58914955, 152688.90677959,  81513.47163492,  57298.28613018,\n",
              "       172852.28336637, 192919.57537462,  47007.62737751,  65835.99435878])"
            ]
          },
          "metadata": {},
          "execution_count": 37
        }
      ],
      "source": [
        "#Predicted profit on the train data\n",
        "y_pred_train"
      ]
    },
    {
      "cell_type": "code",
      "execution_count": null,
      "metadata": {
        "colab": {
          "base_uri": "https://localhost:8080/"
        },
        "id": "cX5kfj7vXUyb",
        "outputId": "b946d1de-bc23-449b-fa5b-400015f22969"
      },
      "outputs": [
        {
          "output_type": "execute_result",
          "data": {
            "text/plain": [
              "28    103282.38\n",
              "11    144259.40\n",
              "10    146121.95\n",
              "41     77798.83\n",
              "2     191050.39\n",
              "27    105008.31\n",
              "38     81229.06\n",
              "31     97483.56\n",
              "22    110352.25\n",
              "4     166187.94\n",
              "Name: Profit, dtype: float64"
            ]
          },
          "metadata": {},
          "execution_count": 38
        }
      ],
      "source": [
        "# Actual profits on test data\n",
        "y_test"
      ]
    },
    {
      "cell_type": "code",
      "execution_count": null,
      "metadata": {
        "colab": {
          "base_uri": "https://localhost:8080/"
        },
        "id": "9Pt6AyYwjJ5-",
        "outputId": "ff333ff3-a22b-4bfc-83c9-d948577f1285"
      },
      "outputs": [
        {
          "output_type": "execute_result",
          "data": {
            "text/plain": [
              "array([103015.20159796, 132582.27760816, 132447.73845174,  71976.09851258,\n",
              "       178537.48221055, 116161.24230165,  67851.69209676,  98791.73374687,\n",
              "       113969.43533012, 167921.0656955 ])"
            ]
          },
          "metadata": {},
          "execution_count": 39
        }
      ],
      "source": [
        "# Predicted Test Data\n",
        "y_pred_test = regressor.predict(X_test)\n",
        "y_pred_test"
      ]
    },
    {
      "cell_type": "markdown",
      "metadata": {
        "id": "FKG4q184j1TS"
      },
      "source": [
        "## **Finding out Errors and Performance**"
      ]
    },
    {
      "cell_type": "code",
      "source": [
        "from sklearn.linear_model import LinearRegression\n",
        "from sklearn.metrics import accuracy_score\n",
        "from sklearn.metrics import r2_score"
      ],
      "metadata": {
        "id": "p4njEAi9uRmG"
      },
      "execution_count": null,
      "outputs": []
    },
    {
      "cell_type": "code",
      "execution_count": null,
      "metadata": {
        "colab": {
          "base_uri": "https://localhost:8080/"
        },
        "id": "4FxM-j9BbPN6",
        "outputId": "97952dd5-3144-4836-eeac-8b2df4e4ad35"
      },
      "outputs": [
        {
          "output_type": "execute_result",
          "data": {
            "text/plain": [
              "0.9501847627493607"
            ]
          },
          "metadata": {},
          "execution_count": 41
        }
      ],
      "source": [
        "r2_score(y_train,y_pred_train)"
      ]
    },
    {
      "cell_type": "code",
      "source": [
        "r2_score(y_test,y_pred_test)"
      ],
      "metadata": {
        "colab": {
          "base_uri": "https://localhost:8080/"
        },
        "id": "AY5EjqFZwqy3",
        "outputId": "5b2c794d-51eb-47e1-cfa0-a8e46e02b9fb"
      },
      "execution_count": null,
      "outputs": [
        {
          "output_type": "execute_result",
          "data": {
            "text/plain": [
              "0.9347068473282426"
            ]
          },
          "metadata": {},
          "execution_count": 42
        }
      ]
    },
    {
      "cell_type": "code",
      "execution_count": null,
      "metadata": {
        "colab": {
          "base_uri": "https://localhost:8080/"
        },
        "id": "lSJGjUx6beXz",
        "outputId": "24870b03-a2f4-414e-ffb5-62a9b2002246"
      },
      "outputs": [
        {
          "output_type": "execute_result",
          "data": {
            "text/plain": [
              "0.9347068473282426"
            ]
          },
          "metadata": {},
          "execution_count": 43
        }
      ],
      "source": [
        "regressor.score(X_test,y_test)"
      ]
    },
    {
      "cell_type": "markdown",
      "metadata": {
        "id": "Lz8R11x_eM5U"
      },
      "source": [
        "### **Training performance is 95.018% and Test is 93.47%**"
      ]
    },
    {
      "cell_type": "markdown",
      "source": [
        "### **Plot to compare Actual and Predicted values in Linear Regression**"
      ],
      "metadata": {
        "id": "kgKFlys0J-H2"
      }
    },
    {
      "cell_type": "code",
      "source": [
        "plt.figure(figsize=(8,5))\n",
        "plt.plot(y_pred_test)\n",
        "plt.plot(np.array(y_test))\n",
        "plt.legend([\"Predicted\",\"Actual\"])\n",
        "plt.show()"
      ],
      "metadata": {
        "id": "1hqxxOFOJ4yj",
        "outputId": "e445f19a-ff62-4514-ca6e-32819f4c9797",
        "colab": {
          "base_uri": "https://localhost:8080/",
          "height": 320
        }
      },
      "execution_count": null,
      "outputs": [
        {
          "output_type": "display_data",
          "data": {
            "text/plain": [
              "<Figure size 576x360 with 1 Axes>"
            ],
            "image/png": "[encoded data removed]"
          },
          "metadata": {
            "needs_background": "light"
          }
        }
      ]
    },
    {
      "cell_type": "markdown",
      "source": [
        "### **Checking the Mean Squared Error**"
      ],
      "metadata": {
        "id": "GyPo3COduD3m"
      }
    },
    {
      "cell_type": "code",
      "execution_count": null,
      "metadata": {
        "colab": {
          "base_uri": "https://localhost:8080/"
        },
        "id": "POty7TU9Xpcd",
        "outputId": "af21d56b-803e-449e-cc4c-3d9d226b4ca8"
      },
      "outputs": [
        {
          "output_type": "execute_result",
          "data": {
            "text/plain": [
              "83502864.03257725"
            ]
          },
          "metadata": {},
          "execution_count": 123
        }
      ],
      "source": [
        "# mean_squared_error(y_train, y_pred_train)\n",
        "Linear_MSE = mean_squared_error(y_test, y_pred_test)\n",
        "Linear_MSE"
      ]
    },
    {
      "cell_type": "code",
      "execution_count": null,
      "metadata": {
        "colab": {
          "base_uri": "https://localhost:8080/"
        },
        "id": "4c43BlaoftxF",
        "outputId": "9c9a17f4-5b5e-49ea-bc74-abb110e59a59"
      },
      "outputs": [
        {
          "output_type": "execute_result",
          "data": {
            "text/plain": [
              "7514.2936596406"
            ]
          },
          "metadata": {},
          "execution_count": 124
        }
      ],
      "source": [
        "# MAE\n",
        "Linear_MAE = mean_absolute_error(y_test, y_pred_test)\n",
        "Linear_MAE"
      ]
    },
    {
      "cell_type": "markdown",
      "source": [
        "**Mean squared error for the model = 83502864.03**\n",
        "\n",
        "**Mean absolute error for the model = 7514.29**"
      ],
      "metadata": {
        "id": "-jSURsLFyvyr"
      }
    },
    {
      "cell_type": "markdown",
      "metadata": {
        "id": "K5zKlsuvIBC4"
      },
      "source": [
        "### **Root Mean Square Value**\n"
      ]
    },
    {
      "cell_type": "code",
      "execution_count": null,
      "metadata": {
        "colab": {
          "base_uri": "https://localhost:8080/"
        },
        "id": "XMz4SJpkN0g_",
        "outputId": "6833d803-c6b1-4a20-afb2-886086f53432"
      },
      "outputs": [
        {
          "output_type": "execute_result",
          "data": {
            "text/plain": [
              "9031.66661257897"
            ]
          },
          "metadata": {},
          "execution_count": 47
        }
      ],
      "source": [
        "# Train performance\n",
        "math.sqrt(mean_squared_error(y_train, y_pred_train))"
      ]
    },
    {
      "cell_type": "code",
      "execution_count": null,
      "metadata": {
        "colab": {
          "base_uri": "https://localhost:8080/"
        },
        "id": "XkFLH1IzHrFm",
        "outputId": "cec16e98-8d0a-46a3-bd8d-70c68fc41710"
      },
      "outputs": [
        {
          "output_type": "execute_result",
          "data": {
            "text/plain": [
              "9137.990152794937"
            ]
          },
          "metadata": {},
          "execution_count": 125
        }
      ],
      "source": [
        "# Test performance\n",
        "Linear_RMSE = math.sqrt(mean_squared_error(y_test, y_pred_test))\n",
        "Linear_RMSE"
      ]
    },
    {
      "cell_type": "markdown",
      "source": [
        "**RMSE_test = 9137.99**"
      ],
      "metadata": {
        "id": "U1jyW6ZVEdTx"
      }
    },
    {
      "cell_type": "code",
      "execution_count": null,
      "metadata": {
        "colab": {
          "base_uri": "https://localhost:8080/"
        },
        "id": "9ytZKFhyOKQu",
        "outputId": "03f19ecc-3e67-4cb5-c274-08408e55e927"
      },
      "outputs": [
        {
          "output_type": "execute_result",
          "data": {
            "text/plain": [
              "0.9501847627493607"
            ]
          },
          "metadata": {},
          "execution_count": 49
        }
      ],
      "source": [
        "# R square\n",
        "r2_score(y_train, y_pred_train)"
      ]
    },
    {
      "cell_type": "code",
      "execution_count": null,
      "metadata": {
        "colab": {
          "base_uri": "https://localhost:8080/"
        },
        "id": "YHEpBCd_Xoyf",
        "outputId": "4407b26a-ad1d-4eef-9467-ffd18726783d"
      },
      "outputs": [
        {
          "output_type": "execute_result",
          "data": {
            "text/plain": [
              "0.9347068473282426"
            ]
          },
          "metadata": {},
          "execution_count": 50
        }
      ],
      "source": [
        "r2_score(y_test, y_pred_test)\n"
      ]
    },
    {
      "cell_type": "markdown",
      "source": [
        "**R2 score for Train Data = 0.9501**\n",
        "\n",
        "**R2 score for Test Data = 0.9347**"
      ],
      "metadata": {
        "id": "PEVhbwCIv1Wy"
      }
    },
    {
      "cell_type": "markdown",
      "metadata": {
        "id": "r7c99MxtikXu"
      },
      "source": [
        "## **Adjusted r2**"
      ]
    },
    {
      "cell_type": "code",
      "execution_count": null,
      "metadata": {
        "colab": {
          "base_uri": "https://localhost:8080/"
        },
        "id": "E9wEVW9fitUo",
        "outputId": "f6a3ca16-301e-4e46-8d72-62dddbe7f2a5"
      },
      "outputs": [
        {
          "output_type": "execute_result",
          "data": {
            "text/plain": [
              "((10, 6), (10,))"
            ]
          },
          "metadata": {},
          "execution_count": 51
        }
      ],
      "source": [
        "X_test.shape,y_test.shape"
      ]
    },
    {
      "cell_type": "code",
      "source": [
        "r2 = r2_score(y_test, y_pred_test)\n",
        "r2"
      ],
      "metadata": {
        "colab": {
          "base_uri": "https://localhost:8080/"
        },
        "id": "tmLvIgCV_eoU",
        "outputId": "75bdd50a-14b0-4f03-ecfd-b06a9ebf2898"
      },
      "execution_count": null,
      "outputs": [
        {
          "output_type": "execute_result",
          "data": {
            "text/plain": [
              "0.9347068473282426"
            ]
          },
          "metadata": {},
          "execution_count": 52
        }
      ]
    },
    {
      "cell_type": "code",
      "execution_count": null,
      "metadata": {
        "colab": {
          "base_uri": "https://localhost:8080/"
        },
        "id": "wPEbMoxOiWwh",
        "outputId": "23ae6a4f-5af9-4ab5-e6f6-3b107aa9f4f6"
      },
      "outputs": [
        {
          "output_type": "stream",
          "name": "stdout",
          "text": [
            "Adjusted R-squared: 0.8041\n"
          ]
        }
      ],
      "source": [
        "n = X_test.shape[0]\n",
        "k = X_test.shape[1]\n",
        "\n",
        "# Calculate the adjusted R-squared\n",
        "radj = 1 - (1 - r2) * (n - 1) / (n - k - 1)\n",
        "print(f'Adjusted R-squared: {radj:.4f}')"
      ]
    },
    {
      "cell_type": "markdown",
      "source": [
        "# **Linear Regression**\n",
        "Mean squared error = **83502864.03**\n",
        "\n",
        "Mean absolute error = **7514.29**\n",
        "\n",
        "Root Mean squared error = **9137.99**\n",
        "\n",
        "R2 score for Train Data = **0.9501**\n",
        "\n",
        "R2 score for Test Data = **0.9347**\n",
        "\n",
        "Adjusted R-square = **0.8041**"
      ],
      "metadata": {
        "id": "b5Ef2t8L48QU"
      }
    },
    {
      "cell_type": "markdown",
      "source": [
        "# **Lasso**"
      ],
      "metadata": {
        "id": "CNBYLauM7H25"
      }
    },
    {
      "cell_type": "code",
      "source": [
        "from sklearn.linear_model import Lasso\n",
        "from sklearn.model_selection import GridSearchCV"
      ],
      "metadata": {
        "id": "Vn8yuspn6qlX"
      },
      "execution_count": null,
      "outputs": []
    },
    {
      "cell_type": "code",
      "source": [
        "lasso = Lasso()\n",
        "lasso.fit(X_train,y_train)"
      ],
      "metadata": {
        "id": "qjE1HbOT6tND",
        "outputId": "172705a2-447a-495e-fffc-eb5b53043036",
        "colab": {
          "base_uri": "https://localhost:8080/"
        }
      },
      "execution_count": null,
      "outputs": [
        {
          "output_type": "execute_result",
          "data": {
            "text/plain": [
              "Lasso()"
            ]
          },
          "metadata": {},
          "execution_count": 55
        }
      ]
    },
    {
      "cell_type": "code",
      "source": [
        "lasso_y_test = lasso.predict(X_test)\n",
        "lasso_y_train = lasso.predict(X_train)"
      ],
      "metadata": {
        "id": "ZZkO3hau61AI"
      },
      "execution_count": null,
      "outputs": []
    },
    {
      "cell_type": "code",
      "source": [
        "# Mean Squared Error\n",
        "mean_lasso_reg = mean_squared_error(y_test,lasso_y_test)\n",
        "mean_lasso_reg"
      ],
      "metadata": {
        "id": "JgmjKYxeG5Aa",
        "outputId": "054411c3-3c54-4909-e348-6142a1073b31",
        "colab": {
          "base_uri": "https://localhost:8080/"
        }
      },
      "execution_count": null,
      "outputs": [
        {
          "output_type": "execute_result",
          "data": {
            "text/plain": [
              "83385123.79965124"
            ]
          },
          "metadata": {},
          "execution_count": 127
        }
      ]
    },
    {
      "cell_type": "code",
      "source": [
        "# Root Mean Squared Error\n",
        "rmse_lasso_reg = math.sqrt(mean_squared_error(y_test,lasso_y_test))\n",
        "rmse_lasso_reg"
      ],
      "metadata": {
        "id": "iiadMaZEHL0C",
        "outputId": "0423fe59-cda2-4530-a685-2166aa243bd0",
        "colab": {
          "base_uri": "https://localhost:8080/"
        }
      },
      "execution_count": null,
      "outputs": [
        {
          "output_type": "execute_result",
          "data": {
            "text/plain": [
              "9131.545531817232"
            ]
          },
          "metadata": {},
          "execution_count": 129
        }
      ]
    },
    {
      "cell_type": "code",
      "source": [
        "# Mean Absolute Error\n",
        "mean_absolute_lasso_reg = mean_absolute_error(y_test,lasso_y_test)\n",
        "mean_absolute_lasso_reg"
      ],
      "metadata": {
        "id": "jldH71mTHkC2",
        "outputId": "f482f736-5d7d-4ee5-8d1c-187a0a3cd18c",
        "colab": {
          "base_uri": "https://localhost:8080/"
        }
      },
      "execution_count": null,
      "outputs": [
        {
          "output_type": "execute_result",
          "data": {
            "text/plain": [
              "7509.684931877372"
            ]
          },
          "metadata": {},
          "execution_count": 128
        }
      ]
    },
    {
      "cell_type": "markdown",
      "source": [
        "### **Plot to compare Actual and Predicted values in Lasso Regression**"
      ],
      "metadata": {
        "id": "GHhe6f7tI01P"
      }
    },
    {
      "cell_type": "code",
      "source": [
        "plt.figure(figsize=(8,5))\n",
        "plt.plot(lasso_y_test)\n",
        "plt.plot(np.array(y_test))\n",
        "plt.legend([\"Predicted\",\"Actual\"])\n",
        "plt.show()"
      ],
      "metadata": {
        "id": "z3AN6MHUITwS",
        "outputId": "dc27fb97-1148-43e3-976d-9512ce444a8e",
        "colab": {
          "base_uri": "https://localhost:8080/",
          "height": 320
        }
      },
      "execution_count": null,
      "outputs": [
        {
          "output_type": "display_data",
          "data": {
            "text/plain": [
              "<Figure size 576x360 with 1 Axes>"
            ],
            "image/png": "[encoded data removed]"
          },
          "metadata": {
            "needs_background": "light"
          }
        }
      ]
    },
    {
      "cell_type": "code",
      "source": [
        "r2_score(y_train, lasso_y_train)"
      ],
      "metadata": {
        "id": "xXHo3Tcg7LbY",
        "outputId": "8bfb6344-7882-4efa-b88d-7fcccb6cd8ec",
        "colab": {
          "base_uri": "https://localhost:8080/"
        }
      },
      "execution_count": null,
      "outputs": [
        {
          "output_type": "execute_result",
          "data": {
            "text/plain": [
              "0.9501847315426798"
            ]
          },
          "metadata": {},
          "execution_count": 66
        }
      ]
    },
    {
      "cell_type": "code",
      "source": [
        "r2_lasso = r2_score(y_test, lasso_y_test)\n",
        "r2_lasso"
      ],
      "metadata": {
        "id": "NGVNRyLK7PFf",
        "outputId": "8c45645c-84c4-42d3-a907-a0228b6c855d",
        "colab": {
          "base_uri": "https://localhost:8080/"
        }
      },
      "execution_count": null,
      "outputs": [
        {
          "output_type": "execute_result",
          "data": {
            "text/plain": [
              "0.9347989116076312"
            ]
          },
          "metadata": {},
          "execution_count": 67
        }
      ]
    },
    {
      "cell_type": "code",
      "source": [
        "n = X_test.shape[0]\n",
        "k = X_test.shape[1]\n",
        "\n",
        "# Calculate the adjusted R-squared\n",
        "radj_lasso = 1 - (1 - r2) * (n - 1) / (n - k - 1)\n",
        "print(f'Adjusted R-squared: {radj_lasso:.4f}')"
      ],
      "metadata": {
        "id": "3DsMtX6XDZeM",
        "outputId": "257c67d3-9e62-49e9-c391-f142bddc1573",
        "colab": {
          "base_uri": "https://localhost:8080/"
        }
      },
      "execution_count": null,
      "outputs": [
        {
          "output_type": "stream",
          "name": "stdout",
          "text": [
            "Adjusted R-squared: 0.8041\n"
          ]
        }
      ]
    },
    {
      "cell_type": "markdown",
      "source": [
        "#**Lasso Regression**\n",
        "\n",
        "Mean squared error = **83385123.79**\n",
        "\n",
        "Mean absolute error = **7509.684**\n",
        "\n",
        "Root Mean squared error = **9131.545**\n",
        "\n",
        "Lasso: R2 score for Train Data = **0.9501**\n",
        "\n",
        "Lasso: R2 score for Test Data = **0.9347**\n",
        "\n",
        "Adjusted R-squarede for the data = **0.8041**"
      ],
      "metadata": {
        "id": "EPy92w3y8A4s"
      }
    },
    {
      "cell_type": "markdown",
      "source": [
        "# **Lasso Regression with Hyper parameter tuning**"
      ],
      "metadata": {
        "id": "hwzTm2LiVTYj"
      }
    },
    {
      "cell_type": "code",
      "source": [
        "parameters_lasso = {'alpha':[ 0.1,0.3,0.5,1,3,5,10,15,20,30,50]}\n",
        "\n",
        "lassocv = GridSearchCV(lasso,parameters_lasso,scoring='neg_mean_squared_error',cv=5)"
      ],
      "metadata": {
        "id": "m3fR0l3RVDZV"
      },
      "execution_count": null,
      "outputs": []
    },
    {
      "cell_type": "code",
      "source": [
        "lassocv.fit(X_train,y_train)"
      ],
      "metadata": {
        "colab": {
          "base_uri": "https://localhost:8080/"
        },
        "id": "bMWqStN6VHGA",
        "outputId": "da4327cd-d7c6-4af1-db40-52f241b88602"
      },
      "execution_count": null,
      "outputs": [
        {
          "output_type": "stream",
          "name": "stderr",
          "text": [
            "/usr/local/lib/python3.8/dist-packages/sklearn/linear_model/_coordinate_descent.py:647: ConvergenceWarning: Objective did not converge. You might want to increase the number of iterations, check the scale of the features or consider increasing regularisation. Duality gap: 4.829e+07, tolerance: 4.896e+06\n",
            "  model = cd_fast.enet_coordinate_descent(\n"
          ]
        },
        {
          "output_type": "execute_result",
          "data": {
            "text/plain": [
              "GridSearchCV(cv=5, estimator=Lasso(),\n",
              "             param_grid={'alpha': [0.1, 0.3, 0.5, 1, 3, 5, 10, 15, 20, 30, 50]},\n",
              "             scoring='neg_mean_squared_error')"
            ]
          },
          "metadata": {},
          "execution_count": 118
        }
      ]
    },
    {
      "cell_type": "code",
      "source": [
        "L_y_test_CV = lassocv.predict(X_test)\n",
        "L_y_train_CV = lassocv.predict(X_train)"
      ],
      "metadata": {
        "id": "29EU7VpvVK48"
      },
      "execution_count": null,
      "outputs": []
    },
    {
      "cell_type": "code",
      "source": [
        "lasso_params_1 = lassocv.best_params_\n",
        "print(\"Best parameter of Lasso:\",lasso_params_1)\n",
        "\n",
        "lasso_score_1 = lassocv.best_score_\n",
        "print(\"Best parameter of Lasso:\",lasso_score_1)\n",
        "\n",
        "MSE_lasso_HP = mean_squared_error(y_test, L_y_test_CV)\n",
        "print(\"MSE for Lasso\",MSE_lasso_HP)\n",
        "\n",
        "# Root Mean Squared Error\n",
        "RMSE_lasso_HP = math.sqrt(mean_squared_error(y_test, L_y_test_CV))\n",
        "print(\"RMSE for Lasso\",RMSE_lasso_HP)\n",
        "\n",
        "MAE_lasso_HP = mean_absolute_error(y_test, L_y_test_CV)\n",
        "print(\"MAE for Lasso\",MAE_lasso_HP)\n",
        "\n",
        "lasso_r2_train = r2_score(y_train, L_y_train_CV)\n",
        "print(\"R2 for Lasso train data\",lasso_r2_train)\n",
        "\n",
        "lasso_H_T_r2 = r2_score(y_test, L_y_test_CV)\n",
        "print(\"R2 for Lasso test data\",lasso_H_T_r2)\n",
        "\n",
        "n = X_test.shape[0]\n",
        "k = X_test.shape[1]\n",
        "\n",
        "# Calculate the adjusted R-squared\n",
        "HT_lasso = 1 - (1 - lasso_H_T_r2) * (n - 1) / (n - k - 1)\n",
        "print(f'Adjusted R-squared: {HT_lasso:.4f}')"
      ],
      "metadata": {
        "colab": {
          "base_uri": "https://localhost:8080/"
        },
        "id": "U1jlWsfYVPp8",
        "outputId": "da7d3633-bcfd-4fa4-e10e-050fa90a49e3"
      },
      "execution_count": null,
      "outputs": [
        {
          "output_type": "stream",
          "name": "stdout",
          "text": [
            "Best parameter of Lasso: {'alpha': 50}\n",
            "Best parameter of Lasso: -139628405.9576257\n",
            "MSE for Lasso 79035527.34639177\n",
            "RMSE for Lasso 8890.192762049188\n",
            "MAE for Lasso 7322.344193119759\n",
            "R2 for Lasso train data 0.9501223064842906\n",
            "R2 for Lasso test data 0.9381999789670982\n",
            "Adjusted R-squared: 0.8146\n"
          ]
        }
      ]
    },
    {
      "cell_type": "markdown",
      "source": [
        "# **Lasso Regression with Hyper Parameter Tuning**\n",
        "\n",
        "Best parameter of Lasso: **{'alpha': 50}**\n",
        "\n",
        "Best parameter of Lasso: **-139628405.9576257**\n",
        "\n",
        "Mean squared error = **79035527.34639**\n",
        "\n",
        "Mean absolute error = **7322.3441**\n",
        "\n",
        "Root Mean squared error = **8890.192**\n",
        "\n",
        "Ridge: R2 score for Train Data = **0.9501**\n",
        "\n",
        "Ridge: R2 score for Test Data = **0.9381**\n",
        "\n",
        "Adjusted R-squarede for the data = **0.8146**"
      ],
      "metadata": {
        "id": "OPKb-ZaCYwTz"
      }
    },
    {
      "cell_type": "markdown",
      "source": [
        "# **RIDGE Regression**"
      ],
      "metadata": {
        "id": "Pq8B4gg55FC-"
      }
    },
    {
      "cell_type": "code",
      "source": [
        "from sklearn.linear_model import Ridge\n",
        "from sklearn.model_selection import GridSearchCV"
      ],
      "metadata": {
        "id": "HthFLJBS0zT6"
      },
      "execution_count": null,
      "outputs": []
    },
    {
      "cell_type": "code",
      "source": [
        "ridge = Ridge()\n",
        "ridge.fit(X_train,y_train)"
      ],
      "metadata": {
        "id": "Pe0FekfW0-kZ",
        "outputId": "7ea29564-997d-4693-e0f0-8bf38612ee2d",
        "colab": {
          "base_uri": "https://localhost:8080/"
        }
      },
      "execution_count": null,
      "outputs": [
        {
          "output_type": "execute_result",
          "data": {
            "text/plain": [
              "Ridge()"
            ]
          },
          "metadata": {},
          "execution_count": 70
        }
      ]
    },
    {
      "cell_type": "code",
      "source": [
        "R_y_test = ridge.predict(X_test)\n",
        "R_y_train = ridge.predict(X_train)"
      ],
      "metadata": {
        "id": "IIUh8j8h10J6"
      },
      "execution_count": null,
      "outputs": []
    },
    {
      "cell_type": "markdown",
      "source": [
        "### **Plot to compare Actual and Predicted values in Ridge Regression**"
      ],
      "metadata": {
        "id": "kX47od-gJOdL"
      }
    },
    {
      "cell_type": "code",
      "source": [
        "plt.figure(figsize=(8,5))\n",
        "plt.plot(R_y_test)\n",
        "plt.plot(np.array(y_test))\n",
        "plt.legend([\"Predicted\",\"Actual\"])\n",
        "plt.show()"
      ],
      "metadata": {
        "id": "dtW9N3lxJNRA",
        "outputId": "2b8699ef-85bf-4e69-c839-59a675aa3b08",
        "colab": {
          "base_uri": "https://localhost:8080/",
          "height": 320
        }
      },
      "execution_count": null,
      "outputs": [
        {
          "output_type": "display_data",
          "data": {
            "text/plain": [
              "<Figure size 576x360 with 1 Axes>"
            ],
            "image/png": "[encoded data removed]"
          },
          "metadata": {
            "needs_background": "light"
          }
        }
      ]
    },
    {
      "cell_type": "code",
      "source": [
        "Ridge_MSE = mean_squared_error(y_test, R_y_test)\n",
        "Ridge_MSE"
      ],
      "metadata": {
        "id": "_uVuud9HFgtM",
        "outputId": "d3956f4b-a3b0-4bd6-9bab-bbf4933359f5",
        "colab": {
          "base_uri": "https://localhost:8080/"
        }
      },
      "execution_count": null,
      "outputs": [
        {
          "output_type": "execute_result",
          "data": {
            "text/plain": [
              "253197124.19952044"
            ]
          },
          "metadata": {},
          "execution_count": 130
        }
      ]
    },
    {
      "cell_type": "code",
      "source": [
        "# MAE\n",
        "Ridge_MAE = mean_absolute_error(y_test, R_y_test)\n",
        "Ridge_MAE"
      ],
      "metadata": {
        "id": "z9ItDeZZFuxh",
        "outputId": "45608859-2681-4f4d-afd3-d0a7afa42092",
        "colab": {
          "base_uri": "https://localhost:8080/"
        }
      },
      "execution_count": null,
      "outputs": [
        {
          "output_type": "execute_result",
          "data": {
            "text/plain": [
              "12487.510643379404"
            ]
          },
          "metadata": {},
          "execution_count": 131
        }
      ]
    },
    {
      "cell_type": "code",
      "source": [
        "# Test performance\n",
        "Ridge_RMSE = math.sqrt(mean_squared_error(y_test, R_y_test))\n",
        "Ridge_RMSE"
      ],
      "metadata": {
        "id": "9CFba0E3F4HR",
        "outputId": "0540d4a6-1e6d-4777-bd58-8c8ba1a7fd57",
        "colab": {
          "base_uri": "https://localhost:8080/"
        }
      },
      "execution_count": null,
      "outputs": [
        {
          "output_type": "execute_result",
          "data": {
            "text/plain": [
              "15912.169060172797"
            ]
          },
          "metadata": {},
          "execution_count": 133
        }
      ]
    },
    {
      "cell_type": "markdown",
      "source": [
        "**R2 score for Test data**"
      ],
      "metadata": {
        "id": "izB-huxE5hT9"
      }
    },
    {
      "cell_type": "code",
      "source": [
        "r2_ridge = r2_score(y_test, R_y_test)\n",
        "r2_ridge"
      ],
      "metadata": {
        "id": "tXgXNUlx5NDk",
        "outputId": "c5228888-0235-4f1c-db3d-154ae55e647e",
        "colab": {
          "base_uri": "https://localhost:8080/"
        }
      },
      "execution_count": null,
      "outputs": [
        {
          "output_type": "execute_result",
          "data": {
            "text/plain": [
              "0.8020183058636227"
            ]
          },
          "metadata": {},
          "execution_count": 76
        }
      ]
    },
    {
      "cell_type": "code",
      "source": [
        "# ridge.score(X_test, y_test)"
      ],
      "metadata": {
        "id": "Pe0SXeeK32M6"
      },
      "execution_count": null,
      "outputs": []
    },
    {
      "cell_type": "markdown",
      "source": [
        "**R2 score for Train data**"
      ],
      "metadata": {
        "id": "UgO30Hv55lUX"
      }
    },
    {
      "cell_type": "code",
      "source": [
        "r2_score(y_train, R_y_train)"
      ],
      "metadata": {
        "id": "m_I9Bp2z4lHu",
        "outputId": "96d64032-4e56-4f78-b910-b896641733c8",
        "colab": {
          "base_uri": "https://localhost:8080/"
        }
      },
      "execution_count": null,
      "outputs": [
        {
          "output_type": "execute_result",
          "data": {
            "text/plain": [
              "0.9070974955252402"
            ]
          },
          "metadata": {},
          "execution_count": 78
        }
      ]
    },
    {
      "cell_type": "code",
      "source": [
        "# ridge.score(X_train, y_train)"
      ],
      "metadata": {
        "id": "R-FfKIY54dNz"
      },
      "execution_count": null,
      "outputs": []
    },
    {
      "cell_type": "markdown",
      "source": [
        "**Ridge Regression**\n",
        "\n",
        "Ridge: R2 score for Train Data = **0.907**\n",
        "\n",
        "Ridge: R2 score for Test Data = **0.802**"
      ],
      "metadata": {
        "id": "oTsQvH-E4U02"
      }
    },
    {
      "cell_type": "code",
      "source": [
        "r2_ridge = r2_score(y_test, R_y_test)\n",
        "r2_ridge"
      ],
      "metadata": {
        "outputId": "5c435e2e-b337-4516-dc20-cba01c0dcff5",
        "colab": {
          "base_uri": "https://localhost:8080/"
        },
        "id": "Nlt8nmZsApzj"
      },
      "execution_count": null,
      "outputs": [
        {
          "output_type": "execute_result",
          "data": {
            "text/plain": [
              "0.8020183058636227"
            ]
          },
          "metadata": {},
          "execution_count": 80
        }
      ]
    },
    {
      "cell_type": "code",
      "execution_count": null,
      "metadata": {
        "colab": {
          "base_uri": "https://localhost:8080/"
        },
        "outputId": "2accf223-046e-4117-a637-bb6c22bb0fa2",
        "id": "nQ4EvnE3Apzk"
      },
      "outputs": [
        {
          "output_type": "stream",
          "name": "stdout",
          "text": [
            "Adjusted R-squared: 0.8041\n"
          ]
        }
      ],
      "source": [
        "n = X_test.shape[0]\n",
        "k = X_test.shape[1]\n",
        "\n",
        "# Calculate the adjusted R-squared\n",
        "radj_ridge = 1 - (1 - r2) * (n - 1) / (n - k - 1)\n",
        "print(f'Adjusted R-squared: {radj_ridge:.4f}')"
      ]
    },
    {
      "cell_type": "markdown",
      "source": [
        "#**Ridge Regression**\n",
        "\n",
        "Mean squared error = **253197124.199**\n",
        "\n",
        "Mean absolute error = **12487.51**\n",
        "\n",
        "Root Mean squared error = **15912.169**\n",
        "\n",
        "Ridge: R2 score for Train Data = **0.907**\n",
        "\n",
        "Ridge: R2 score for Test Data = **0.802**\n",
        "\n",
        "Adjusted R-squarede for the data = **0.8041**"
      ],
      "metadata": {
        "id": "3m8IJOVwCYQM"
      }
    },
    {
      "cell_type": "markdown",
      "source": [
        "# **Ridge Regression with Hyper Parameter Tuning**"
      ],
      "metadata": {
        "id": "GugPwTYDToEc"
      }
    },
    {
      "cell_type": "code",
      "source": [
        "parameters_Ridge = {'alpha':[ 0.1,0.3,0.5,1,3,5,10,15,20,30,50]}"
      ],
      "metadata": {
        "id": "echuk-1cQcnI"
      },
      "execution_count": null,
      "outputs": []
    },
    {
      "cell_type": "code",
      "source": [
        "ridgecv = GridSearchCV(ridge,parameters_Ridge,scoring='neg_mean_squared_error',cv=5)"
      ],
      "metadata": {
        "id": "9h7ApmxiQuZR"
      },
      "execution_count": null,
      "outputs": []
    },
    {
      "cell_type": "code",
      "source": [
        "ridgecv.fit(X_train,y_train)"
      ],
      "metadata": {
        "colab": {
          "base_uri": "https://localhost:8080/"
        },
        "id": "7mvibit1RL6G",
        "outputId": "febabb56-eac3-4203-ce22-2c5436a9cccf"
      },
      "execution_count": null,
      "outputs": [
        {
          "output_type": "execute_result",
          "data": {
            "text/plain": [
              "GridSearchCV(cv=5, estimator=Ridge(),\n",
              "             param_grid={'alpha': [0.1, 0.3, 0.5, 1, 3, 5, 10, 15, 20, 30, 50]},\n",
              "             scoring='neg_mean_squared_error')"
            ]
          },
          "metadata": {},
          "execution_count": 87
        }
      ]
    },
    {
      "cell_type": "code",
      "source": [
        "R_y_test_CV = ridgecv.predict(X_test)\n",
        "R_y_train_CV = ridgecv.predict(X_train)"
      ],
      "metadata": {
        "id": "mPWCazF0Rwdp"
      },
      "execution_count": null,
      "outputs": []
    },
    {
      "cell_type": "code",
      "source": [
        "ridgecv.best_params_"
      ],
      "metadata": {
        "colab": {
          "base_uri": "https://localhost:8080/"
        },
        "id": "QphXn_lgRQaA",
        "outputId": "c6039dbf-9dad-4b78-856a-d7127ff709ee"
      },
      "execution_count": null,
      "outputs": [
        {
          "output_type": "execute_result",
          "data": {
            "text/plain": [
              "{'alpha': 0.1}"
            ]
          },
          "metadata": {},
          "execution_count": 89
        }
      ]
    },
    {
      "cell_type": "code",
      "source": [
        "ridgecv.best_score_"
      ],
      "metadata": {
        "colab": {
          "base_uri": "https://localhost:8080/"
        },
        "id": "bp_Fy2dWRXrO",
        "outputId": "e5ad96f9-764a-4483-adb1-90f2a472501d"
      },
      "execution_count": null,
      "outputs": [
        {
          "output_type": "execute_result",
          "data": {
            "text/plain": [
              "-142882469.10702828"
            ]
          },
          "metadata": {},
          "execution_count": 93
        }
      ]
    },
    {
      "cell_type": "code",
      "source": [
        "ridge_params_1 = ridgecv.best_params_\n",
        "print(\"Best parameter of Ridge:\",ridge_params_1)\n",
        "\n",
        "ridge_score_1 = ridgecv.best_score_\n",
        "print(\"Best parameter of Ridge:\",ridge_score_1)"
      ],
      "metadata": {
        "colab": {
          "base_uri": "https://localhost:8080/"
        },
        "id": "8Km9irQYVvDP",
        "outputId": "ef339c08-0119-44c4-f921-c433753e6f6d"
      },
      "execution_count": null,
      "outputs": [
        {
          "output_type": "stream",
          "name": "stdout",
          "text": [
            "Best parameter of Ridge: {'alpha': 0.1}\n",
            "Best parameter of Ridge: -142882469.10702828\n"
          ]
        }
      ]
    },
    {
      "cell_type": "code",
      "source": [
        "Ridge_MSE_HP = mean_squared_error(y_test, R_y_test_CV)\n",
        "Ridge_MSE_HP"
      ],
      "metadata": {
        "colab": {
          "base_uri": "https://localhost:8080/"
        },
        "id": "h4n5HBwgR8Jn",
        "outputId": "fa040a93-06e2-4d10-b7af-e043681536d7"
      },
      "execution_count": null,
      "outputs": [
        {
          "output_type": "execute_result",
          "data": {
            "text/plain": [
              "103881620.89575277"
            ]
          },
          "metadata": {},
          "execution_count": 134
        }
      ]
    },
    {
      "cell_type": "code",
      "source": [
        "# Root Mean Squared Error\n",
        "Ridge_RMSE_HP = math.sqrt(mean_squared_error(y_test, R_y_test_CV))\n",
        "Ridge_RMSE_HP"
      ],
      "metadata": {
        "colab": {
          "base_uri": "https://localhost:8080/"
        },
        "id": "fqtQis1mU5e5",
        "outputId": "ee2b9b18-4d20-48f0-e6ff-8e4aec37d503"
      },
      "execution_count": null,
      "outputs": [
        {
          "output_type": "execute_result",
          "data": {
            "text/plain": [
              "10192.233361523507"
            ]
          },
          "metadata": {},
          "execution_count": 135
        }
      ]
    },
    {
      "cell_type": "code",
      "source": [
        "Ridge_MAE_HP = mean_absolute_error(y_test, R_y_test_CV)\n",
        "Ridge_MAE_HP"
      ],
      "metadata": {
        "colab": {
          "base_uri": "https://localhost:8080/"
        },
        "id": "6iGOUGqLSHjc",
        "outputId": "3b9e3b52-d951-4259-e975-1963a55f56f9"
      },
      "execution_count": null,
      "outputs": [
        {
          "output_type": "execute_result",
          "data": {
            "text/plain": [
              "8258.19744260046"
            ]
          },
          "metadata": {},
          "execution_count": 137
        }
      ]
    },
    {
      "cell_type": "code",
      "source": [
        "ridge_H_T_r2_train = r2_score(y_train, R_y_train_CV)\n",
        "ridge_H_T_r2_train"
      ],
      "metadata": {
        "colab": {
          "base_uri": "https://localhost:8080/"
        },
        "id": "JFwu6kYtVlfl",
        "outputId": "0295a254-4bed-44af-8b1b-9869911b2b83"
      },
      "execution_count": null,
      "outputs": [
        {
          "output_type": "execute_result",
          "data": {
            "text/plain": [
              "0.9488374029039357"
            ]
          },
          "metadata": {},
          "execution_count": 94
        }
      ]
    },
    {
      "cell_type": "code",
      "source": [
        "ridge_H_T_r2 = r2_score(y_test, R_y_test_CV)\n",
        "ridge_H_T_r2"
      ],
      "metadata": {
        "colab": {
          "base_uri": "https://localhost:8080/"
        },
        "id": "dJN0sYjgTy6b",
        "outputId": "4107cfd7-e2ba-4f45-aa0f-0117b02e309a"
      },
      "execution_count": null,
      "outputs": [
        {
          "output_type": "execute_result",
          "data": {
            "text/plain": [
              "0.9187721449854722"
            ]
          },
          "metadata": {},
          "execution_count": 95
        }
      ]
    },
    {
      "cell_type": "code",
      "source": [
        "n = X_test.shape[0]\n",
        "k = X_test.shape[1]\n",
        "\n",
        "# Calculate the adjusted R-squared\n",
        "HT_ridge = 1 - (1 - ridge_H_T_r2) * (n - 1) / (n - k - 1)\n",
        "print(f'Adjusted R-squared: {HT_ridge:.4f}')"
      ],
      "metadata": {
        "colab": {
          "base_uri": "https://localhost:8080/"
        },
        "id": "iuqc9rcAT3_n",
        "outputId": "0377c2c0-46f1-48e2-e1cb-8227e23a7841"
      },
      "execution_count": null,
      "outputs": [
        {
          "output_type": "stream",
          "name": "stdout",
          "text": [
            "Adjusted R-squared: 0.7563\n"
          ]
        }
      ]
    },
    {
      "cell_type": "markdown",
      "source": [
        "#**Ridge Regression with Hyper Parameter Tuning**\n",
        "\n",
        "Best parameter of Ridge: **{'alpha': 0.1}**\n",
        "\n",
        "Best parameter of Ridge: **-142882469.10702828**\n",
        "\n",
        "Mean squared error = **103881620.895**\n",
        "\n",
        "Mean absolute error = **8258.197**\n",
        "\n",
        "Root Mean squared error = **10192.233**\n",
        "\n",
        "Ridge: R2 score for Train Data = **0.9488**\n",
        "\n",
        "Ridge: R2 score for Test Data = **0.9187**\n",
        "\n",
        "Adjusted R-squarede for the data = **0.7563**"
      ],
      "metadata": {
        "id": "Vohk84n5Ug3t"
      }
    },
    {
      "cell_type": "markdown",
      "source": [
        "# **ElasticNet Regression**"
      ],
      "metadata": {
        "id": "z6GsUxOCQ-B6"
      }
    },
    {
      "cell_type": "code",
      "source": [
        "from sklearn.linear_model import ElasticNet"
      ],
      "metadata": {
        "id": "ZtatnfZfNjhF"
      },
      "execution_count": null,
      "outputs": []
    },
    {
      "cell_type": "code",
      "source": [
        "elastic = ElasticNet()\n",
        "parameters_elastic = {'alpha': [1e-15,1e-13,1e-10,1e-8,1e-5,1e-4,1e-3,1e-2,1e-1,0.02,0.05,1,5,10,20,30,40,45,50,55,60,100,150,200],'l1_ratio':[0.3,0.4,0.5,0.6,0.7,0.8,1,2,3,5,10,15,20]}\n",
        "elastic_regressor = GridSearchCV(elastic, parameters_elastic, scoring='neg_mean_squared_error',cv=5)\n",
        "elastic_regressor.fit(X_train, y_train)"
      ],
      "metadata": {
        "id": "bjcKXYavNYCB"
      },
      "execution_count": null,
      "outputs": []
    },
    {
      "cell_type": "code",
      "source": [
        "elastic_regressor.best_params_"
      ],
      "metadata": {
        "colab": {
          "base_uri": "https://localhost:8080/"
        },
        "id": "TneA0Y2yNxvy",
        "outputId": "5ba8b7b1-74eb-42da-c0b9-a959920bfbc0"
      },
      "execution_count": null,
      "outputs": [
        {
          "output_type": "execute_result",
          "data": {
            "text/plain": [
              "{'alpha': 200, 'l1_ratio': 1}"
            ]
          },
          "metadata": {},
          "execution_count": 155
        }
      ]
    },
    {
      "cell_type": "code",
      "source": [
        "elastic_regressor.best_score_"
      ],
      "metadata": {
        "colab": {
          "base_uri": "https://localhost:8080/"
        },
        "id": "lgxsvH8EN9QU",
        "outputId": "5eed4ada-07bf-48c9-c260-d3742a90d9fb"
      },
      "execution_count": null,
      "outputs": [
        {
          "output_type": "execute_result",
          "data": {
            "text/plain": [
              "-129742382.96835688"
            ]
          },
          "metadata": {},
          "execution_count": 158
        }
      ]
    },
    {
      "cell_type": "code",
      "source": [
        "y_pred_elastic_test1 = elastic_regressor.predict(X_test)\n",
        "y_pred_elastic_train1 = elastic_regressor.predict(X_train)"
      ],
      "metadata": {
        "id": "Q6C9csbqKzlD"
      },
      "execution_count": null,
      "outputs": []
    },
    {
      "cell_type": "code",
      "source": [
        "MSE  = mean_squared_error(y_test, y_pred_elastic_test1)\n",
        "print(\"MSE :\" , MSE)\n",
        "\n",
        "MAE  = mean_absolute_error(y_test, y_pred_elastic_test1)\n",
        "print(\"MAE :\" , MAE)\n",
        "\n",
        "RMSE = np.sqrt(MSE)\n",
        "print(\"RMSE :\" ,RMSE)\n",
        "\n",
        "r2_test = r2_score(y_test, y_pred_elastic_test1)\n",
        "r2_train = r2_score(y_train, y_pred_elastic_train1)\n",
        "\n",
        "print(\"R2 for Test data :\" ,r2_test)\n",
        "print(\"R2 for Train data:\" ,r2_train)\n",
        "print(\"Adjusted R2 : \",1-(1-r2_test)*((X_test.shape[0]-1)/(X_test.shape[0]-X_test.shape[1]-1)))"
      ],
      "metadata": {
        "colab": {
          "base_uri": "https://localhost:8080/"
        },
        "id": "5jFjtLYCLCZj",
        "outputId": "54198fd2-f28e-4d7b-b604-7764f33707af"
      },
      "execution_count": null,
      "outputs": [
        {
          "output_type": "stream",
          "name": "stdout",
          "text": [
            "MSE : 68388566.02819215\n",
            "MAE : 6806.150283360187\n",
            "RMSE : 8269.737966114291\n",
            "R2 for Test data : 0.9465251265999781\n",
            "R2 for Train data: 0.9492921016971518\n",
            "Adjusted R2 :  0.8395753797999344\n"
          ]
        }
      ]
    },
    {
      "cell_type": "code",
      "source": [
        "plt.figure(figsize=(8,5))\n",
        "plt.plot(y_pred_elastic)\n",
        "plt.plot(np.array(y_test))\n",
        "plt.legend([\"Predicted\",\"Actual\"])\n",
        "plt.show()"
      ],
      "metadata": {
        "colab": {
          "base_uri": "https://localhost:8080/",
          "height": 320
        },
        "id": "gvFIUbJKPD3a",
        "outputId": "867eeb2e-9713-4ab5-be00-b550bd062463"
      },
      "execution_count": null,
      "outputs": [
        {
          "output_type": "display_data",
          "data": {
            "text/plain": [
              "<Figure size 576x360 with 1 Axes>"
            ],
            "image/png": "[encoded data removed]"
          },
          "metadata": {
            "needs_background": "light"
          }
        }
      ]
    },
    {
      "cell_type": "code",
      "source": [
        "MSE : 68388566.02819215\n",
        "MAE : 6806.150283360187\n",
        "RMSE : 8269.737966114291\n",
        "R2 for Test data : 0.9465251265999781\n",
        "R2 for Train data: 0.9492921016971518\n",
        "Adjusted R2 :  0.8395753797999344"
      ],
      "metadata": {
        "id": "kgiFLNT9LejJ"
      },
      "execution_count": null,
      "outputs": []
    },
    {
      "cell_type": "markdown",
      "source": [
        "#**ElasticNet Regression with Hyper Parameter Tuning**\n",
        "\n",
        "Best parameters = **{'alpha': 200, 'l1_ratio': 1}**\n",
        "\n",
        "Best score = **-129742382.96835688**\n",
        "\n",
        "Mean squared error = **68388566.0281**\n",
        "\n",
        "Mean absolute error = **6806.1502**\n",
        "\n",
        "Root Mean squared error = **8269.737**\n",
        "\n",
        "R2 score for Train Data = **0.94929**\n",
        "\n",
        "R2 score for Test Data = **0.94652**\n",
        "\n",
        "Adjusted R-squarede for the data = **0.83957**"
      ],
      "metadata": {
        "id": "sTH6Cy32PU9Y"
      }
    },
    {
      "cell_type": "markdown",
      "source": [],
      "metadata": {
        "id": "aEi8pwbKVMOI"
      }
    },
    {
      "cell_type": "markdown",
      "metadata": {
        "id": "BKwoPzXhe8w3"
      },
      "source": [
        "#<b>Evaluating the models"
      ]
    },
    {
      "cell_type": "code",
      "source": [
        "models= ['Linear Regression', 'Lasso Regression', 'Lasso Regression HP','Ridge Regression', 'Ridge Regression HP','ElasticNet']"
      ],
      "metadata": {
        "id": "gZQPghMcu3-n"
      },
      "execution_count": null,
      "outputs": []
    },
    {
      "cell_type": "code",
      "execution_count": null,
      "metadata": {
        "id": "DlM2huKUe8w4"
      },
      "outputs": [],
      "source": [
        "test_mse= [Linear_MSE, mean_lasso_reg, MSE_lasso_HP, Ridge_MSE, Ridge_MSE_HP, MSE]\n",
        "test_mae= [7514.29, 7509.684, 7322.3441, 12487.51, 8258.197, 6806.1502]\n",
        "test_rmse= [9137.99, 9131.545, 8890.192, 15912.169, 10192.233, 8269.737]\n",
        "train_r2= [0.9501, 0.9501, 0.9501, 0.907, 0.9488, 0.94929]\n",
        "test_r2= [0.9347, 0.9347, 0.9381, 0.802, 0.9187, 0.94652]\n",
        "test_adjusted_r2= [0.8041, 0.8041, 0.8146, 0.8041, 0.7563,0.83957]\n",
        "best_para = ['-','-',{'alpha': 50},'-',{'alpha': 0.1},{'alpha': 200, 'l1_ratio': 1}]\n",
        "best_sco = ['-','-',-139628405.957,'-',-142882469.107,-129742382.968]"
      ]
    },
    {
      "cell_type": "markdown",
      "metadata": {
        "id": "_VqwBkske8w4"
      },
      "source": [
        "<b>Model Comparison & Selection"
      ]
    },
    {
      "cell_type": "code",
      "execution_count": null,
      "metadata": {
        "colab": {
          "base_uri": "https://localhost:8080/",
          "height": 237
        },
        "outputId": "4c84e069-d280-425a-d341-707792f832a4",
        "id": "j3UXK8VVe8w4"
      },
      "outputs": [
        {
          "output_type": "execute_result",
          "data": {
            "text/plain": [
              "            Model Name           MSE         MAE       RMSE  Train R^2  \\\n",
              "0    Linear Regression  8.350286e+07   7514.2900   9137.990    0.95010   \n",
              "1     Lasso Regression  8.338512e+07   7509.6840   9131.545    0.95010   \n",
              "2  Lasso Regression HP  7.903553e+07   7322.3441   8890.192    0.95010   \n",
              "3     Ridge Regression  2.531971e+08  12487.5100  15912.169    0.90700   \n",
              "4  Ridge Regression HP  1.038816e+08   8258.1970  10192.233    0.94880   \n",
              "5           ElasticNet  6.838857e+07   6806.1502   8269.737    0.94929   \n",
              "\n",
              "   Test R^2  Adjusted R^2                    Best Params     Best Score  \n",
              "0   0.93470       0.80410                              -              -  \n",
              "1   0.93470       0.80410                              -              -  \n",
              "2   0.93810       0.81460                  {'alpha': 50} -139628405.957  \n",
              "3   0.80200       0.80410                              -              -  \n",
              "4   0.91870       0.75630                 {'alpha': 0.1} -142882469.107  \n",
              "5   0.94652       0.83957  {'alpha': 200, 'l1_ratio': 1} -129742382.968  "
            ],
            "text/html": [
              "\n",
              "  <div id=\"df-ef3c788a-81ad-4436-83d7-b9d97f26397e\">\n",
              "    <div class=\"colab-df-container\">\n",
              "      <div>\n",
              "<style scoped>\n",
              "    .dataframe tbody tr th:only-of-type {\n",
              "        vertical-align: middle;\n",
              "    }\n",
              "\n",
              "    .dataframe tbody tr th {\n",
              "        vertical-align: top;\n",
              "    }\n",
              "\n",
              "    .dataframe thead th {\n",
              "        text-align: right;\n",
              "    }\n",
              "</style>\n",
              "<table border=\"1\" class=\"dataframe\">\n",
              "  <thead>\n",
              "    <tr style=\"text-align: right;\">\n",
              "      <th></th>\n",
              "      <th>Model Name</th>\n",
              "      <th>MSE</th>\n",
              "      <th>MAE</th>\n",
              "      <th>RMSE</th>\n",
              "      <th>Train R^2</th>\n",
              "      <th>Test R^2</th>\n",
              "      <th>Adjusted R^2</th>\n",
              "      <th>Best Params</th>\n",
              "      <th>Best Score</th>\n",
              "    </tr>\n",
              "  </thead>\n",
              "  <tbody>\n",
              "    <tr>\n",
              "      <th>0</th>\n",
              "      <td>Linear Regression</td>\n",
              "      <td>8.350286e+07</td>\n",
              "      <td>7514.2900</td>\n",
              "      <td>9137.990</td>\n",
              "      <td>0.95010</td>\n",
              "      <td>0.93470</td>\n",
              "      <td>0.80410</td>\n",
              "      <td>-</td>\n",
              "      <td>-</td>\n",
              "    </tr>\n",
              "    <tr>\n",
              "      <th>1</th>\n",
              "      <td>Lasso Regression</td>\n",
              "      <td>8.338512e+07</td>\n",
              "      <td>7509.6840</td>\n",
              "      <td>9131.545</td>\n",
              "      <td>0.95010</td>\n",
              "      <td>0.93470</td>\n",
              "      <td>0.80410</td>\n",
              "      <td>-</td>\n",
              "      <td>-</td>\n",
              "    </tr>\n",
              "    <tr>\n",
              "      <th>2</th>\n",
              "      <td>Lasso Regression HP</td>\n",
              "      <td>7.903553e+07</td>\n",
              "      <td>7322.3441</td>\n",
              "      <td>8890.192</td>\n",
              "      <td>0.95010</td>\n",
              "      <td>0.93810</td>\n",
              "      <td>0.81460</td>\n",
              "      <td>{'alpha': 50}</td>\n",
              "      <td>-139628405.957</td>\n",
              "    </tr>\n",
              "    <tr>\n",
              "      <th>3</th>\n",
              "      <td>Ridge Regression</td>\n",
              "      <td>2.531971e+08</td>\n",
              "      <td>12487.5100</td>\n",
              "      <td>15912.169</td>\n",
              "      <td>0.90700</td>\n",
              "      <td>0.80200</td>\n",
              "      <td>0.80410</td>\n",
              "      <td>-</td>\n",
              "      <td>-</td>\n",
              "    </tr>\n",
              "    <tr>\n",
              "      <th>4</th>\n",
              "      <td>Ridge Regression HP</td>\n",
              "      <td>1.038816e+08</td>\n",
              "      <td>8258.1970</td>\n",
              "      <td>10192.233</td>\n",
              "      <td>0.94880</td>\n",
              "      <td>0.91870</td>\n",
              "      <td>0.75630</td>\n",
              "      <td>{'alpha': 0.1}</td>\n",
              "      <td>-142882469.107</td>\n",
              "    </tr>\n",
              "    <tr>\n",
              "      <th>5</th>\n",
              "      <td>ElasticNet</td>\n",
              "      <td>6.838857e+07</td>\n",
              "      <td>6806.1502</td>\n",
              "      <td>8269.737</td>\n",
              "      <td>0.94929</td>\n",
              "      <td>0.94652</td>\n",
              "      <td>0.83957</td>\n",
              "      <td>{'alpha': 200, 'l1_ratio': 1}</td>\n",
              "      <td>-129742382.968</td>\n",
              "    </tr>\n",
              "  </tbody>\n",
              "</table>\n",
              "</div>\n",
              "      <button class=\"colab-df-convert\" onclick=\"convertToInteractive('df-ef3c788a-81ad-4436-83d7-b9d97f26397e')\"\n",
              "              title=\"Convert this dataframe to an interactive table.\"\n",
              "              style=\"display:none;\">\n",
              "        \n",
              "  <svg xmlns=\"http://www.w3.org/2000/svg\" height=\"24px\"viewBox=\"0 0 24 24\"\n",
              "       width=\"24px\">\n",
              "    <path d=\"M0 0h24v24H0V0z\" fill=\"none\"/>\n",
              "    <path d=\"M18.56 5.44l.94 2.06.94-2.06 2.06-.94-2.06-.94-.94-2.06-.94 2.06-2.06.94zm-11 1L8.5 8.5l.94-2.06 2.06-.94-2.06-.94L8.5 2.5l-.94 2.06-2.06.94zm10 10l.94 2.06.94-2.06 2.06-.94-2.06-.94-.94-2.06-.94 2.06-2.06.94z\"/><path d=\"M17.41 7.96l-1.37-1.37c-.4-.4-.92-.59-1.43-.59-.52 0-1.04.2-1.43.59L10.3 9.45l-7.72 7.72c-.78.78-.78 2.05 0 2.83L4 21.41c.39.39.9.59 1.41.59.51 0 1.02-.2 1.41-.59l7.78-7.78 2.81-2.81c.8-.78.8-2.07 0-2.86zM5.41 20L4 18.59l7.72-7.72 1.47 1.35L5.41 20z\"/>\n",
              "  </svg>\n",
              "      </button>\n",
              "      \n",
              "  <style>\n",
              "    .colab-df-container {\n",
              "      display:flex;\n",
              "      flex-wrap:wrap;\n",
              "      gap: 12px;\n",
              "    }\n",
              "\n",
              "    .colab-df-convert {\n",
              "      background-color: #E8F0FE;\n",
              "      border: none;\n",
              "      border-radius: 50%;\n",
              "      cursor: pointer;\n",
              "      display: none;\n",
              "      fill: #1967D2;\n",
              "      height: 32px;\n",
              "      padding: 0 0 0 0;\n",
              "      width: 32px;\n",
              "    }\n",
              "\n",
              "    .colab-df-convert:hover {\n",
              "      background-color: #E2EBFA;\n",
              "      box-shadow: 0px 1px 2px rgba(60, 64, 67, 0.3), 0px 1px 3px 1px rgba(60, 64, 67, 0.15);\n",
              "      fill: #174EA6;\n",
              "    }\n",
              "\n",
              "    [theme=dark] .colab-df-convert {\n",
              "      background-color: #3B4455;\n",
              "      fill: #D2E3FC;\n",
              "    }\n",
              "\n",
              "    [theme=dark] .colab-df-convert:hover {\n",
              "      background-color: #434B5C;\n",
              "      box-shadow: 0px 1px 3px 1px rgba(0, 0, 0, 0.15);\n",
              "      filter: drop-shadow(0px 1px 2px rgba(0, 0, 0, 0.3));\n",
              "      fill: #FFFFFF;\n",
              "    }\n",
              "  </style>\n",
              "\n",
              "      <script>\n",
              "        const buttonEl =\n",
              "          document.querySelector('#df-ef3c788a-81ad-4436-83d7-b9d97f26397e button.colab-df-convert');\n",
              "        buttonEl.style.display =\n",
              "          google.colab.kernel.accessAllowed ? 'block' : 'none';\n",
              "\n",
              "        async function convertToInteractive(key) {\n",
              "          const element = document.querySelector('#df-ef3c788a-81ad-4436-83d7-b9d97f26397e');\n",
              "          const dataTable =\n",
              "            await google.colab.kernel.invokeFunction('convertToInteractive',\n",
              "                                                     [key], {});\n",
              "          if (!dataTable) return;\n",
              "\n",
              "          const docLinkHtml = 'Like what you see? Visit the ' +\n",
              "            '<a target=\"_blank\" href=https://colab.research.google.com/notebooks/data_table.ipynb>data table notebook</a>'\n",
              "            + ' to learn more about interactive tables.';\n",
              "          element.innerHTML = '';\n",
              "          dataTable['output_type'] = 'display_data';\n",
              "          await google.colab.output.renderOutput(dataTable, element);\n",
              "          const docLink = document.createElement('div');\n",
              "          docLink.innerHTML = docLinkHtml;\n",
              "          element.appendChild(docLink);\n",
              "        }\n",
              "      </script>\n",
              "    </div>\n",
              "  </div>\n",
              "  "
            ]
          },
          "metadata": {},
          "execution_count": 162
        }
      ],
      "source": [
        "model_comparison = pd.DataFrame({'Model Name': models,\n",
        "                          'MSE': test_mse,'MAE': test_mae,'RMSE': test_rmse,\n",
        "                          'Train R^2': train_r2,'Test R^2': test_r2,\n",
        "                          'Adjusted R^2': test_adjusted_r2,'Best Params': best_para,'Best Score': best_sco})\n",
        "model_comparison"
      ]
    },
    {
      "cell_type": "markdown",
      "source": [
        "# **Conclusion**"
      ],
      "metadata": {
        "id": "SuSPx6glEHWa"
      }
    },
    {
      "cell_type": "markdown",
      "source": [
        "*   The table shows the performance metrics of several different regression models, including Linear Regression, Lasso Regression, Lasso Regression with Hyper parameter testing, Ridge Regression, Ridge Regression Hyper parameter testing, and ElasticNet.\n",
        "\n",
        "*   ElasticNet is the best performing models it has the highest test set R^2 score and the lowest MSE among all models, which suggests that it makes the best predictions and has the lowest error on the test set\n",
        "\n",
        "*   Lasso Regression Hyperparameter tuning has the second highest test set R^2 score and second lowest MSE among all the other models, which suggests that it makes the best predictions and has the lowest error on the test set next to elasticNet.\n",
        "\n",
        "*   The Ridge Regression Hyperparameter tuning and ElasticNet models also had good performance on test sets, they have lower MSE and R^2 on test set than Linear Regression, Lasso Regression, and Ridge Regression alone.\n",
        "\n",
        "*   The Linear Regression, Lasso Regression, and Ridge Regression models have similar R^2 values on the training set but different MSE, MAE and RMS values,suggests that they might be overfitting and not generalizing as well as other models and we did not use Hyperparameter tuning to compare them with the models with Hyperparameter tuning to check for differences suggests that they might be overfitting and not generalizing as well as other models.\n",
        "\n",
        "*   Ridge Regression and Ridge Regression Hyperparameter tuning models have significantly higher MSE values than the other models, which suggests they may not be as accurate at making predictions.\n",
        "\n",
        "*   The best score of the model is now known, providing insight into the model's best performance among all hyperparameter tuning runs."
      ],
      "metadata": {
        "id": "rqa37FnUFjPA"
      }
    },
    {
      "cell_type": "markdown",
      "source": [
        "## **Why ElasticNet is a better performing Algorithm**"
      ],
      "metadata": {
        "id": "UIZX8FtmSGNY"
      }
    },
    {
      "cell_type": "markdown",
      "source": [
        "ElasticNet\n",
        "Elastic Net is a linear regression model that combines the properties of both Ridge Regression and Lasso Regression. It adds a mixing parameter, l1_ratio, which controls the balance between L1 and L2 regularization"
      ],
      "metadata": {
        "id": "PfSK-inDRFjK"
      }
    },
    {
      "cell_type": "markdown",
      "source": [
        "Elastic Net can be a better choice than Ridge or Lasso Regression alone because it can address some of the limitations of those methods.\n",
        "\n",
        "Ridge Regression addresses the problem of correlated features by adding a L2 regularization term to the cost function, which shrinks the coefficients of correlated features closer to zero, but does not set any coefficients exactly to zero. In contrast, Lasso Regression adds a L1 regularization term to the cost function, which can set some coefficients to zero, effectively removing them from the model. However, Lasso Regression can be overly aggressive in setting coefficients to zero and may eliminate important features.\n",
        "\n",
        "Elastic Net combines the strengths of Ridge and Lasso Regression by adding both L1 and L2 regularization terms to the cost function. The mixing parameter (l1_ratio) allows you to control the balance between the two penalties, so you can tune the model to give more importance to either L1 or L2 regularization, or to balance the two.\n",
        "\n",
        "In this way, Elastic Net can provide a balance between L1 and L2 regularization and address the limitations of Ridge and Lasso Regression, and it can provide a more robust and accurate model.\n",
        "\n",
        "Also, in practice, when you have high dimensionality dataset, Elastic Net sometimes perform better than Lasso, as Lasso can be affected by the scaling of the predictors. Elastic net, however is robust to scaling."
      ],
      "metadata": {
        "id": "1AnsCI9sR9TF"
      }
    },
    {
      "cell_type": "markdown",
      "source": [
        "# **Exporting the Machine Learning Model**"
      ],
      "metadata": {
        "id": "iIUSIJ07voER"
      }
    },
    {
      "cell_type": "markdown",
      "source": [
        "**Using \"pickle\" library**"
      ],
      "metadata": {
        "id": "9WUkGaLaTkQL"
      }
    },
    {
      "cell_type": "code",
      "source": [
        "# prompt: can you write me a code for checking 1000 iterations for a XGBooster algorithm\n",
        "\n",
        "import xgboost\n",
        "\n",
        "# Define the model\n",
        "model = xgboost.XGBClassifier()\n",
        "\n",
        "# Define the hyperparameter grid\n",
        "param_grid = {\n",
        "  'learning_rate': [0.01, 0.1, 0.2],\n",
        "  'max_depth': [None, 1, 2, 3],\n",
        "  'n_estimators': [100, 200, 500]\n",
        "}\n",
        "\n",
        "# Perform grid search with cross-validation\n",
        "grid_search = GridSearchCV(model, param_grid, cv=5)\n",
        "grid_search.fit(X_train, y_train)\n",
        "\n",
        "# Get the best hyperparameters\n",
        "best_params = grid_search.best_params_\n",
        "\n",
        "# Train the model with the best hyperparameters\n",
        "model = xgboost.XGBClassifier(**best_params)\n",
        "model.fit(X_train, y_train)\n",
        "\n",
        "# Evaluate the model on the test set\n",
        "y_pred = model.predict(X_test)\n",
        "accuracy = accuracy_score(y_test, y_pred)\n",
        "\n",
        "# Print the results\n",
        "print(\"Accuracy:\", accuracy)\n",
        "\n"
      ],
      "metadata": {
        "id": "o0M5KOEPOB2M"
      },
      "execution_count": null,
      "outputs": []
    },
    {
      "cell_type": "code",
      "source": [
        "import pickle"
      ],
      "metadata": {
        "id": "AkDfW667g_ap"
      },
      "execution_count": null,
      "outputs": []
    },
    {
      "cell_type": "code",
      "source": [
        "pickle.dump(regressor,open('MODEL.pkl','wb'))"
      ],
      "metadata": {
        "id": "SbZZXTHXl2TW"
      },
      "execution_count": null,
      "outputs": []
    },
    {
      "cell_type": "markdown",
      "source": [
        "**Using \"joblib\" library**"
      ],
      "metadata": {
        "id": "bYKKKum0ToFY"
      }
    },
    {
      "cell_type": "code",
      "source": [
        "from joblib import dump, load\n",
        "\n",
        "dump(regressor, 'MODEL.joblib')\n"
      ],
      "metadata": {
        "colab": {
          "base_uri": "https://localhost:8080/"
        },
        "id": "dfa07H7uTZLV",
        "outputId": "c0351fc8-c202-4d60-b358-f7c098678f7e"
      },
      "execution_count": null,
      "outputs": [
        {
          "output_type": "execute_result",
          "data": {
            "text/plain": [
              "['MODEL.joblib']"
            ]
          },
          "metadata": {},
          "execution_count": 165
        }
      ]
    },
    {
      "cell_type": "markdown",
      "source": [
        "Thank You\n",
        "\n",
        "---\n"
      ],
      "metadata": {
        "id": "ofOqBPjBvPWv"
      }
    }
  ],
  "metadata": {
    "colab": {
      "provenance": [],
      "include_colab_link": true
    },
    "kernelspec": {
      "display_name": "Python 3",
      "language": "python",
      "name": "python3"
    },
    "language_info": {
      "codemirror_mode": {
        "name": "ipython",
        "version": 3
      },
      "file_extension": ".py",
      "mimetype": "text/x-python",
      "name": "python",
      "nbconvert_exporter": "python",
      "pygments_lexer": "ipython3",
      "version": "3.7.1"
    }
  },
  "nbformat": 4,
  "nbformat_minor": 0
}